{
  "nbformat": 4,
  "nbformat_minor": 0,
  "metadata": {
    "colab": {
      "provenance": [],
      "gpuType": "T4",
      "authorship_tag": "ABX9TyOmUF2JshhheZzgkIdloep1",
      "include_colab_link": true
    },
    "kernelspec": {
      "name": "python3",
      "display_name": "Python 3"
    },
    "language_info": {
      "name": "python"
    },
    "accelerator": "GPU"
  },
  "cells": [
    {
      "cell_type": "markdown",
      "metadata": {
        "id": "view-in-github",
        "colab_type": "text"
      },
      "source": [
        "<a href=\"https://colab.research.google.com/github/TharuWitharana/image-classification-using-ml/blob/main/Copy_of_Image_classifier_using_ML.ipynb\" target=\"_parent\"><img src=\"https://colab.research.google.com/assets/colab-badge.svg\" alt=\"Open In Colab\"/></a>"
      ]
    },
    {
      "cell_type": "code",
      "execution_count": 1,
      "metadata": {
        "colab": {
          "base_uri": "https://localhost:8080/"
        },
        "id": "2mukFJzZbCb0",
        "outputId": "9181a752-f35a-42f2-d78a-245f348ff7c3"
      },
      "outputs": [
        {
          "output_type": "stream",
          "name": "stdout",
          "text": [
            "Mounted at /content/drive\n"
          ]
        }
      ],
      "source": [
        "from google.colab import drive\n",
        "drive.mount('/content/drive')\n",
        "\n",
        "import numpy as np\n",
        "import pandas as pd\n",
        "import matplotlib.pyplot as plt\n",
        "from sklearn.neighbors import KNeighborsClassifier\n",
        "from sklearn.metrics import accuracy_score, confusion_matrix\n",
        "from tensorflow.keras.preprocessing.image import ImageDataGenerator\n",
        "from google.colab import drive"
      ]
    },
    {
      "cell_type": "code",
      "source": [
        "import warnings\n",
        "warnings.filterwarnings(\"ignore\", category=DeprecationWarning)"
      ],
      "metadata": {
        "id": "kHWc6iXYihfD"
      },
      "execution_count": 2,
      "outputs": []
    },
    {
      "cell_type": "code",
      "source": [
        "input_dataset = \"/content/drive/MyDrive/tealeaf\""
      ],
      "metadata": {
        "id": "AXgGdBSrn-o2"
      },
      "execution_count": 3,
      "outputs": []
    },
    {
      "cell_type": "code",
      "source": [
        "import os\n",
        "import shutil\n",
        "import random"
      ],
      "metadata": {
        "id": "UZOo_6zMoKpz"
      },
      "execution_count": 4,
      "outputs": []
    },
    {
      "cell_type": "code",
      "source": [
        "# def rename_and_copy_images(input_folder, output_folder):\n",
        "#     os.makedirs(output_folder, exist_ok=True)\n",
        "\n",
        "#     for class_folder in os.listdir(input_folder):\n",
        "#         class_path = os.path.join(input_folder, class_folder)\n",
        "#         if os.path.isdir(class_path):\n",
        "#             output_class_folder = os.path.join(output_folder, class_folder)\n",
        "#             os.makedirs(output_class_folder, exist_ok=True)\n",
        "\n",
        "#             count = 1\n",
        "#             for image in os.listdir(class_path):\n",
        "#                 if image.endswith(('.jpg', '.jpeg', '.png')):  # You can add other image extensions if needed\n",
        "#                     src = os.path.join(class_path, image)\n",
        "#                     cropped_file_name = f\"{class_folder}{count}.jpg\"\n",
        "#                     dst = os.path.join(output_class_folder, cropped_file_name)\n",
        "#                     shutil.copy(src, dst)\n",
        "#                     count += 1\n",
        "\n",
        "# Example usage\n",
        "input_folder = \"/content/drive/MyDrive/tealeaf\"\n",
        "output_folder = \"/content/drive/MyDrive/tealeafrenamedfolder\"  # Path to your desired output folder\n",
        "\n",
        "# rename_and_copy_images(input_folder, output_folder)\n"
      ],
      "metadata": {
        "id": "d8iBHWvqiQ5j"
      },
      "execution_count": 5,
      "outputs": []
    },
    {
      "cell_type": "code",
      "source": [
        "def create_disease_file_names_dict(output_folder):\n",
        "    disease_file_names_dict = {}\n",
        "    for class_folder in os.listdir(output_folder):\n",
        "        class_path = os.path.join(output_folder, class_folder)\n",
        "        if os.path.isdir(class_path):\n",
        "            disease_name = class_folder\n",
        "            file_list = []\n",
        "            for entry in os.scandir(class_path):\n",
        "                if entry.is_file():\n",
        "                    file_list.append(entry.path)\n",
        "            disease_file_names_dict[disease_name] = file_list\n",
        "    return disease_file_names_dict\n",
        "\n",
        "disease_file_names_dict = create_disease_file_names_dict(output_folder)\n",
        "print(disease_file_names_dict)"
      ],
      "metadata": {
        "colab": {
          "base_uri": "https://localhost:8080/"
        },
        "id": "yUwDQWoPrce-",
        "outputId": "46df83b3-0d52-4f79-e2d9-a4092d605a57"
      },
      "execution_count": 6,
      "outputs": [
        {
          "output_type": "stream",
          "name": "stdout",
          "text": [
            "{'white spot': ['/content/drive/MyDrive/tealeafrenamedfolder/white spot/white spot1.jpg', '/content/drive/MyDrive/tealeafrenamedfolder/white spot/white spot2.jpg', '/content/drive/MyDrive/tealeafrenamedfolder/white spot/white spot3.jpg', '/content/drive/MyDrive/tealeafrenamedfolder/white spot/white spot4.jpg', '/content/drive/MyDrive/tealeafrenamedfolder/white spot/white spot5.jpg', '/content/drive/MyDrive/tealeafrenamedfolder/white spot/white spot6.jpg', '/content/drive/MyDrive/tealeafrenamedfolder/white spot/white spot7.jpg', '/content/drive/MyDrive/tealeafrenamedfolder/white spot/white spot8.jpg', '/content/drive/MyDrive/tealeafrenamedfolder/white spot/white spot9.jpg', '/content/drive/MyDrive/tealeafrenamedfolder/white spot/white spot10.jpg', '/content/drive/MyDrive/tealeafrenamedfolder/white spot/white spot11.jpg', '/content/drive/MyDrive/tealeafrenamedfolder/white spot/white spot12.jpg', '/content/drive/MyDrive/tealeafrenamedfolder/white spot/white spot13.jpg', '/content/drive/MyDrive/tealeafrenamedfolder/white spot/white spot14.jpg', '/content/drive/MyDrive/tealeafrenamedfolder/white spot/white spot15.jpg', '/content/drive/MyDrive/tealeafrenamedfolder/white spot/white spot16.jpg', '/content/drive/MyDrive/tealeafrenamedfolder/white spot/white spot17.jpg', '/content/drive/MyDrive/tealeafrenamedfolder/white spot/white spot18.jpg', '/content/drive/MyDrive/tealeafrenamedfolder/white spot/white spot19.jpg', '/content/drive/MyDrive/tealeafrenamedfolder/white spot/white spot20.jpg', '/content/drive/MyDrive/tealeafrenamedfolder/white spot/white spot21.jpg', '/content/drive/MyDrive/tealeafrenamedfolder/white spot/white spot22.jpg', '/content/drive/MyDrive/tealeafrenamedfolder/white spot/white spot23.jpg', '/content/drive/MyDrive/tealeafrenamedfolder/white spot/white spot24.jpg', '/content/drive/MyDrive/tealeafrenamedfolder/white spot/white spot25.jpg', '/content/drive/MyDrive/tealeafrenamedfolder/white spot/white spot26.jpg', '/content/drive/MyDrive/tealeafrenamedfolder/white spot/white spot27.jpg', '/content/drive/MyDrive/tealeafrenamedfolder/white spot/white spot28.jpg', '/content/drive/MyDrive/tealeafrenamedfolder/white spot/white spot29.jpg', '/content/drive/MyDrive/tealeafrenamedfolder/white spot/white spot30.jpg', '/content/drive/MyDrive/tealeafrenamedfolder/white spot/white spot31.jpg', '/content/drive/MyDrive/tealeafrenamedfolder/white spot/white spot32.jpg', '/content/drive/MyDrive/tealeafrenamedfolder/white spot/white spot33.jpg', '/content/drive/MyDrive/tealeafrenamedfolder/white spot/white spot34.jpg', '/content/drive/MyDrive/tealeafrenamedfolder/white spot/white spot35.jpg', '/content/drive/MyDrive/tealeafrenamedfolder/white spot/white spot36.jpg', '/content/drive/MyDrive/tealeafrenamedfolder/white spot/white spot37.jpg', '/content/drive/MyDrive/tealeafrenamedfolder/white spot/white spot38.jpg', '/content/drive/MyDrive/tealeafrenamedfolder/white spot/white spot39.jpg', '/content/drive/MyDrive/tealeafrenamedfolder/white spot/white spot40.jpg', '/content/drive/MyDrive/tealeafrenamedfolder/white spot/white spot41.jpg', '/content/drive/MyDrive/tealeafrenamedfolder/white spot/white spot42.jpg', '/content/drive/MyDrive/tealeafrenamedfolder/white spot/white spot43.jpg', '/content/drive/MyDrive/tealeafrenamedfolder/white spot/white spot44.jpg', '/content/drive/MyDrive/tealeafrenamedfolder/white spot/white spot45.jpg', '/content/drive/MyDrive/tealeafrenamedfolder/white spot/white spot46.jpg', '/content/drive/MyDrive/tealeafrenamedfolder/white spot/white spot47.jpg', '/content/drive/MyDrive/tealeafrenamedfolder/white spot/white spot48.jpg', '/content/drive/MyDrive/tealeafrenamedfolder/white spot/white spot49.jpg', '/content/drive/MyDrive/tealeafrenamedfolder/white spot/white spot50.jpg', '/content/drive/MyDrive/tealeafrenamedfolder/white spot/white spot51.jpg', '/content/drive/MyDrive/tealeafrenamedfolder/white spot/white spot52.jpg', '/content/drive/MyDrive/tealeafrenamedfolder/white spot/white spot53.jpg', '/content/drive/MyDrive/tealeafrenamedfolder/white spot/white spot54.jpg', '/content/drive/MyDrive/tealeafrenamedfolder/white spot/white spot55.jpg', '/content/drive/MyDrive/tealeafrenamedfolder/white spot/white spot56.jpg', '/content/drive/MyDrive/tealeafrenamedfolder/white spot/white spot57.jpg', '/content/drive/MyDrive/tealeafrenamedfolder/white spot/white spot58.jpg', '/content/drive/MyDrive/tealeafrenamedfolder/white spot/white spot59.jpg', '/content/drive/MyDrive/tealeafrenamedfolder/white spot/white spot60.jpg', '/content/drive/MyDrive/tealeafrenamedfolder/white spot/white spot61.jpg', '/content/drive/MyDrive/tealeafrenamedfolder/white spot/white spot62.jpg', '/content/drive/MyDrive/tealeafrenamedfolder/white spot/white spot63.jpg', '/content/drive/MyDrive/tealeafrenamedfolder/white spot/white spot64.jpg', '/content/drive/MyDrive/tealeafrenamedfolder/white spot/white spot65.jpg', '/content/drive/MyDrive/tealeafrenamedfolder/white spot/white spot66.jpg', '/content/drive/MyDrive/tealeafrenamedfolder/white spot/white spot67.jpg', '/content/drive/MyDrive/tealeafrenamedfolder/white spot/white spot68.jpg', '/content/drive/MyDrive/tealeafrenamedfolder/white spot/white spot69.jpg', '/content/drive/MyDrive/tealeafrenamedfolder/white spot/white spot70.jpg', '/content/drive/MyDrive/tealeafrenamedfolder/white spot/white spot71.jpg', '/content/drive/MyDrive/tealeafrenamedfolder/white spot/white spot72.jpg', '/content/drive/MyDrive/tealeafrenamedfolder/white spot/white spot73.jpg', '/content/drive/MyDrive/tealeafrenamedfolder/white spot/white spot74.jpg', '/content/drive/MyDrive/tealeafrenamedfolder/white spot/white spot75.jpg', '/content/drive/MyDrive/tealeafrenamedfolder/white spot/white spot76.jpg', '/content/drive/MyDrive/tealeafrenamedfolder/white spot/white spot77.jpg', '/content/drive/MyDrive/tealeafrenamedfolder/white spot/white spot78.jpg', '/content/drive/MyDrive/tealeafrenamedfolder/white spot/white spot79.jpg', '/content/drive/MyDrive/tealeafrenamedfolder/white spot/white spot80.jpg', '/content/drive/MyDrive/tealeafrenamedfolder/white spot/white spot81.jpg', '/content/drive/MyDrive/tealeafrenamedfolder/white spot/white spot82.jpg', '/content/drive/MyDrive/tealeafrenamedfolder/white spot/white spot83.jpg', '/content/drive/MyDrive/tealeafrenamedfolder/white spot/white spot84.jpg', '/content/drive/MyDrive/tealeafrenamedfolder/white spot/white spot85.jpg', '/content/drive/MyDrive/tealeafrenamedfolder/white spot/white spot86.jpg', '/content/drive/MyDrive/tealeafrenamedfolder/white spot/white spot87.jpg', '/content/drive/MyDrive/tealeafrenamedfolder/white spot/white spot88.jpg', '/content/drive/MyDrive/tealeafrenamedfolder/white spot/white spot89.jpg', '/content/drive/MyDrive/tealeafrenamedfolder/white spot/white spot90.jpg', '/content/drive/MyDrive/tealeafrenamedfolder/white spot/white spot91.jpg', '/content/drive/MyDrive/tealeafrenamedfolder/white spot/white spot92.jpg', '/content/drive/MyDrive/tealeafrenamedfolder/white spot/white spot93.jpg', '/content/drive/MyDrive/tealeafrenamedfolder/white spot/white spot94.jpg', '/content/drive/MyDrive/tealeafrenamedfolder/white spot/white spot95.jpg', '/content/drive/MyDrive/tealeafrenamedfolder/white spot/white spot96.jpg', '/content/drive/MyDrive/tealeafrenamedfolder/white spot/white spot97.jpg', '/content/drive/MyDrive/tealeafrenamedfolder/white spot/white spot98.jpg', '/content/drive/MyDrive/tealeafrenamedfolder/white spot/white spot99.jpg', '/content/drive/MyDrive/tealeafrenamedfolder/white spot/white spot100.jpg', '/content/drive/MyDrive/tealeafrenamedfolder/white spot/white spot101.jpg', '/content/drive/MyDrive/tealeafrenamedfolder/white spot/white spot102.jpg', '/content/drive/MyDrive/tealeafrenamedfolder/white spot/white spot103.jpg', '/content/drive/MyDrive/tealeafrenamedfolder/white spot/white spot104.jpg', '/content/drive/MyDrive/tealeafrenamedfolder/white spot/white spot105.jpg', '/content/drive/MyDrive/tealeafrenamedfolder/white spot/white spot106.jpg', '/content/drive/MyDrive/tealeafrenamedfolder/white spot/white spot107.jpg', '/content/drive/MyDrive/tealeafrenamedfolder/white spot/white spot108.jpg', '/content/drive/MyDrive/tealeafrenamedfolder/white spot/white spot109.jpg', '/content/drive/MyDrive/tealeafrenamedfolder/white spot/white spot110.jpg', '/content/drive/MyDrive/tealeafrenamedfolder/white spot/white spot111.jpg', '/content/drive/MyDrive/tealeafrenamedfolder/white spot/white spot112.jpg', '/content/drive/MyDrive/tealeafrenamedfolder/white spot/white spot113.jpg', '/content/drive/MyDrive/tealeafrenamedfolder/white spot/white spot114.jpg', '/content/drive/MyDrive/tealeafrenamedfolder/white spot/white spot115.jpg', '/content/drive/MyDrive/tealeafrenamedfolder/white spot/white spot116.jpg', '/content/drive/MyDrive/tealeafrenamedfolder/white spot/white spot117.jpg', '/content/drive/MyDrive/tealeafrenamedfolder/white spot/white spot118.jpg', '/content/drive/MyDrive/tealeafrenamedfolder/white spot/white spot119.jpg', '/content/drive/MyDrive/tealeafrenamedfolder/white spot/white spot120.jpg', '/content/drive/MyDrive/tealeafrenamedfolder/white spot/white spot121.jpg', '/content/drive/MyDrive/tealeafrenamedfolder/white spot/white spot122.jpg', '/content/drive/MyDrive/tealeafrenamedfolder/white spot/white spot123.jpg', '/content/drive/MyDrive/tealeafrenamedfolder/white spot/white spot124.jpg', '/content/drive/MyDrive/tealeafrenamedfolder/white spot/white spot125.jpg', '/content/drive/MyDrive/tealeafrenamedfolder/white spot/white spot126.jpg', '/content/drive/MyDrive/tealeafrenamedfolder/white spot/white spot127.jpg', '/content/drive/MyDrive/tealeafrenamedfolder/white spot/white spot128.jpg', '/content/drive/MyDrive/tealeafrenamedfolder/white spot/white spot129.jpg', '/content/drive/MyDrive/tealeafrenamedfolder/white spot/white spot130.jpg', '/content/drive/MyDrive/tealeafrenamedfolder/white spot/white spot131.jpg', '/content/drive/MyDrive/tealeafrenamedfolder/white spot/white spot132.jpg', '/content/drive/MyDrive/tealeafrenamedfolder/white spot/white spot133.jpg', '/content/drive/MyDrive/tealeafrenamedfolder/white spot/white spot134.jpg', '/content/drive/MyDrive/tealeafrenamedfolder/white spot/white spot135.jpg', '/content/drive/MyDrive/tealeafrenamedfolder/white spot/white spot136.jpg', '/content/drive/MyDrive/tealeafrenamedfolder/white spot/white spot137.jpg', '/content/drive/MyDrive/tealeafrenamedfolder/white spot/white spot138.jpg', '/content/drive/MyDrive/tealeafrenamedfolder/white spot/white spot139.jpg', '/content/drive/MyDrive/tealeafrenamedfolder/white spot/white spot140.jpg', '/content/drive/MyDrive/tealeafrenamedfolder/white spot/white spot141.jpg', '/content/drive/MyDrive/tealeafrenamedfolder/white spot/white spot142.jpg'], 'red leaf spot': ['/content/drive/MyDrive/tealeafrenamedfolder/red leaf spot/red leaf spot1.jpg', '/content/drive/MyDrive/tealeafrenamedfolder/red leaf spot/red leaf spot2.jpg', '/content/drive/MyDrive/tealeafrenamedfolder/red leaf spot/red leaf spot3.jpg', '/content/drive/MyDrive/tealeafrenamedfolder/red leaf spot/red leaf spot4.jpg', '/content/drive/MyDrive/tealeafrenamedfolder/red leaf spot/red leaf spot5.jpg', '/content/drive/MyDrive/tealeafrenamedfolder/red leaf spot/red leaf spot6.jpg', '/content/drive/MyDrive/tealeafrenamedfolder/red leaf spot/red leaf spot7.jpg', '/content/drive/MyDrive/tealeafrenamedfolder/red leaf spot/red leaf spot8.jpg', '/content/drive/MyDrive/tealeafrenamedfolder/red leaf spot/red leaf spot9.jpg', '/content/drive/MyDrive/tealeafrenamedfolder/red leaf spot/red leaf spot10.jpg', '/content/drive/MyDrive/tealeafrenamedfolder/red leaf spot/red leaf spot11.jpg', '/content/drive/MyDrive/tealeafrenamedfolder/red leaf spot/red leaf spot12.jpg', '/content/drive/MyDrive/tealeafrenamedfolder/red leaf spot/red leaf spot13.jpg', '/content/drive/MyDrive/tealeafrenamedfolder/red leaf spot/red leaf spot14.jpg', '/content/drive/MyDrive/tealeafrenamedfolder/red leaf spot/red leaf spot15.jpg', '/content/drive/MyDrive/tealeafrenamedfolder/red leaf spot/red leaf spot16.jpg', '/content/drive/MyDrive/tealeafrenamedfolder/red leaf spot/red leaf spot17.jpg', '/content/drive/MyDrive/tealeafrenamedfolder/red leaf spot/red leaf spot18.jpg', '/content/drive/MyDrive/tealeafrenamedfolder/red leaf spot/red leaf spot19.jpg', '/content/drive/MyDrive/tealeafrenamedfolder/red leaf spot/red leaf spot20.jpg', '/content/drive/MyDrive/tealeafrenamedfolder/red leaf spot/red leaf spot21.jpg', '/content/drive/MyDrive/tealeafrenamedfolder/red leaf spot/red leaf spot22.jpg', '/content/drive/MyDrive/tealeafrenamedfolder/red leaf spot/red leaf spot23.jpg', '/content/drive/MyDrive/tealeafrenamedfolder/red leaf spot/red leaf spot24.jpg', '/content/drive/MyDrive/tealeafrenamedfolder/red leaf spot/red leaf spot25.jpg', '/content/drive/MyDrive/tealeafrenamedfolder/red leaf spot/red leaf spot26.jpg', '/content/drive/MyDrive/tealeafrenamedfolder/red leaf spot/red leaf spot27.jpg', '/content/drive/MyDrive/tealeafrenamedfolder/red leaf spot/red leaf spot28.jpg', '/content/drive/MyDrive/tealeafrenamedfolder/red leaf spot/red leaf spot29.jpg', '/content/drive/MyDrive/tealeafrenamedfolder/red leaf spot/red leaf spot30.jpg', '/content/drive/MyDrive/tealeafrenamedfolder/red leaf spot/red leaf spot31.jpg', '/content/drive/MyDrive/tealeafrenamedfolder/red leaf spot/red leaf spot32.jpg', '/content/drive/MyDrive/tealeafrenamedfolder/red leaf spot/red leaf spot33.jpg', '/content/drive/MyDrive/tealeafrenamedfolder/red leaf spot/red leaf spot34.jpg', '/content/drive/MyDrive/tealeafrenamedfolder/red leaf spot/red leaf spot35.jpg', '/content/drive/MyDrive/tealeafrenamedfolder/red leaf spot/red leaf spot36.jpg', '/content/drive/MyDrive/tealeafrenamedfolder/red leaf spot/red leaf spot37.jpg', '/content/drive/MyDrive/tealeafrenamedfolder/red leaf spot/red leaf spot38.jpg', '/content/drive/MyDrive/tealeafrenamedfolder/red leaf spot/red leaf spot39.jpg', '/content/drive/MyDrive/tealeafrenamedfolder/red leaf spot/red leaf spot40.jpg', '/content/drive/MyDrive/tealeafrenamedfolder/red leaf spot/red leaf spot41.jpg', '/content/drive/MyDrive/tealeafrenamedfolder/red leaf spot/red leaf spot42.jpg', '/content/drive/MyDrive/tealeafrenamedfolder/red leaf spot/red leaf spot43.jpg', '/content/drive/MyDrive/tealeafrenamedfolder/red leaf spot/red leaf spot44.jpg', '/content/drive/MyDrive/tealeafrenamedfolder/red leaf spot/red leaf spot45.jpg', '/content/drive/MyDrive/tealeafrenamedfolder/red leaf spot/red leaf spot46.jpg', '/content/drive/MyDrive/tealeafrenamedfolder/red leaf spot/red leaf spot47.jpg', '/content/drive/MyDrive/tealeafrenamedfolder/red leaf spot/red leaf spot48.jpg', '/content/drive/MyDrive/tealeafrenamedfolder/red leaf spot/red leaf spot49.jpg', '/content/drive/MyDrive/tealeafrenamedfolder/red leaf spot/red leaf spot50.jpg', '/content/drive/MyDrive/tealeafrenamedfolder/red leaf spot/red leaf spot51.jpg', '/content/drive/MyDrive/tealeafrenamedfolder/red leaf spot/red leaf spot52.jpg', '/content/drive/MyDrive/tealeafrenamedfolder/red leaf spot/red leaf spot53.jpg', '/content/drive/MyDrive/tealeafrenamedfolder/red leaf spot/red leaf spot54.jpg', '/content/drive/MyDrive/tealeafrenamedfolder/red leaf spot/red leaf spot55.jpg', '/content/drive/MyDrive/tealeafrenamedfolder/red leaf spot/red leaf spot56.jpg', '/content/drive/MyDrive/tealeafrenamedfolder/red leaf spot/red leaf spot57.jpg', '/content/drive/MyDrive/tealeafrenamedfolder/red leaf spot/red leaf spot58.jpg', '/content/drive/MyDrive/tealeafrenamedfolder/red leaf spot/red leaf spot59.jpg', '/content/drive/MyDrive/tealeafrenamedfolder/red leaf spot/red leaf spot60.jpg', '/content/drive/MyDrive/tealeafrenamedfolder/red leaf spot/red leaf spot61.jpg', '/content/drive/MyDrive/tealeafrenamedfolder/red leaf spot/red leaf spot62.jpg', '/content/drive/MyDrive/tealeafrenamedfolder/red leaf spot/red leaf spot63.jpg', '/content/drive/MyDrive/tealeafrenamedfolder/red leaf spot/red leaf spot64.jpg', '/content/drive/MyDrive/tealeafrenamedfolder/red leaf spot/red leaf spot65.jpg', '/content/drive/MyDrive/tealeafrenamedfolder/red leaf spot/red leaf spot66.jpg', '/content/drive/MyDrive/tealeafrenamedfolder/red leaf spot/red leaf spot67.jpg', '/content/drive/MyDrive/tealeafrenamedfolder/red leaf spot/red leaf spot68.jpg', '/content/drive/MyDrive/tealeafrenamedfolder/red leaf spot/red leaf spot69.jpg', '/content/drive/MyDrive/tealeafrenamedfolder/red leaf spot/red leaf spot70.jpg', '/content/drive/MyDrive/tealeafrenamedfolder/red leaf spot/red leaf spot71.jpg', '/content/drive/MyDrive/tealeafrenamedfolder/red leaf spot/red leaf spot72.jpg', '/content/drive/MyDrive/tealeafrenamedfolder/red leaf spot/red leaf spot73.jpg', '/content/drive/MyDrive/tealeafrenamedfolder/red leaf spot/red leaf spot74.jpg', '/content/drive/MyDrive/tealeafrenamedfolder/red leaf spot/red leaf spot75.jpg', '/content/drive/MyDrive/tealeafrenamedfolder/red leaf spot/red leaf spot76.jpg', '/content/drive/MyDrive/tealeafrenamedfolder/red leaf spot/red leaf spot77.jpg', '/content/drive/MyDrive/tealeafrenamedfolder/red leaf spot/red leaf spot78.jpg', '/content/drive/MyDrive/tealeafrenamedfolder/red leaf spot/red leaf spot79.jpg', '/content/drive/MyDrive/tealeafrenamedfolder/red leaf spot/red leaf spot80.jpg', '/content/drive/MyDrive/tealeafrenamedfolder/red leaf spot/red leaf spot81.jpg', '/content/drive/MyDrive/tealeafrenamedfolder/red leaf spot/red leaf spot82.jpg', '/content/drive/MyDrive/tealeafrenamedfolder/red leaf spot/red leaf spot83.jpg', '/content/drive/MyDrive/tealeafrenamedfolder/red leaf spot/red leaf spot84.jpg', '/content/drive/MyDrive/tealeafrenamedfolder/red leaf spot/red leaf spot85.jpg', '/content/drive/MyDrive/tealeafrenamedfolder/red leaf spot/red leaf spot86.jpg', '/content/drive/MyDrive/tealeafrenamedfolder/red leaf spot/red leaf spot87.jpg', '/content/drive/MyDrive/tealeafrenamedfolder/red leaf spot/red leaf spot88.jpg', '/content/drive/MyDrive/tealeafrenamedfolder/red leaf spot/red leaf spot89.jpg', '/content/drive/MyDrive/tealeafrenamedfolder/red leaf spot/red leaf spot90.jpg', '/content/drive/MyDrive/tealeafrenamedfolder/red leaf spot/red leaf spot91.jpg', '/content/drive/MyDrive/tealeafrenamedfolder/red leaf spot/red leaf spot92.jpg', '/content/drive/MyDrive/tealeafrenamedfolder/red leaf spot/red leaf spot93.jpg', '/content/drive/MyDrive/tealeafrenamedfolder/red leaf spot/red leaf spot94.jpg', '/content/drive/MyDrive/tealeafrenamedfolder/red leaf spot/red leaf spot95.jpg', '/content/drive/MyDrive/tealeafrenamedfolder/red leaf spot/red leaf spot96.jpg', '/content/drive/MyDrive/tealeafrenamedfolder/red leaf spot/red leaf spot97.jpg', '/content/drive/MyDrive/tealeafrenamedfolder/red leaf spot/red leaf spot98.jpg', '/content/drive/MyDrive/tealeafrenamedfolder/red leaf spot/red leaf spot99.jpg', '/content/drive/MyDrive/tealeafrenamedfolder/red leaf spot/red leaf spot100.jpg', '/content/drive/MyDrive/tealeafrenamedfolder/red leaf spot/red leaf spot101.jpg', '/content/drive/MyDrive/tealeafrenamedfolder/red leaf spot/red leaf spot102.jpg', '/content/drive/MyDrive/tealeafrenamedfolder/red leaf spot/red leaf spot103.jpg', '/content/drive/MyDrive/tealeafrenamedfolder/red leaf spot/red leaf spot104.jpg', '/content/drive/MyDrive/tealeafrenamedfolder/red leaf spot/red leaf spot105.jpg', '/content/drive/MyDrive/tealeafrenamedfolder/red leaf spot/red leaf spot106.jpg', '/content/drive/MyDrive/tealeafrenamedfolder/red leaf spot/red leaf spot107.jpg', '/content/drive/MyDrive/tealeafrenamedfolder/red leaf spot/red leaf spot108.jpg', '/content/drive/MyDrive/tealeafrenamedfolder/red leaf spot/red leaf spot109.jpg', '/content/drive/MyDrive/tealeafrenamedfolder/red leaf spot/red leaf spot110.jpg', '/content/drive/MyDrive/tealeafrenamedfolder/red leaf spot/red leaf spot111.jpg', '/content/drive/MyDrive/tealeafrenamedfolder/red leaf spot/red leaf spot112.jpg', '/content/drive/MyDrive/tealeafrenamedfolder/red leaf spot/red leaf spot113.jpg', '/content/drive/MyDrive/tealeafrenamedfolder/red leaf spot/red leaf spot114.jpg', '/content/drive/MyDrive/tealeafrenamedfolder/red leaf spot/red leaf spot115.jpg', '/content/drive/MyDrive/tealeafrenamedfolder/red leaf spot/red leaf spot116.jpg', '/content/drive/MyDrive/tealeafrenamedfolder/red leaf spot/red leaf spot117.jpg', '/content/drive/MyDrive/tealeafrenamedfolder/red leaf spot/red leaf spot118.jpg', '/content/drive/MyDrive/tealeafrenamedfolder/red leaf spot/red leaf spot119.jpg', '/content/drive/MyDrive/tealeafrenamedfolder/red leaf spot/red leaf spot120.jpg', '/content/drive/MyDrive/tealeafrenamedfolder/red leaf spot/red leaf spot121.jpg', '/content/drive/MyDrive/tealeafrenamedfolder/red leaf spot/red leaf spot122.jpg', '/content/drive/MyDrive/tealeafrenamedfolder/red leaf spot/red leaf spot123.jpg', '/content/drive/MyDrive/tealeafrenamedfolder/red leaf spot/red leaf spot124.jpg', '/content/drive/MyDrive/tealeafrenamedfolder/red leaf spot/red leaf spot125.jpg', '/content/drive/MyDrive/tealeafrenamedfolder/red leaf spot/red leaf spot126.jpg', '/content/drive/MyDrive/tealeafrenamedfolder/red leaf spot/red leaf spot127.jpg', '/content/drive/MyDrive/tealeafrenamedfolder/red leaf spot/red leaf spot128.jpg', '/content/drive/MyDrive/tealeafrenamedfolder/red leaf spot/red leaf spot129.jpg', '/content/drive/MyDrive/tealeafrenamedfolder/red leaf spot/red leaf spot130.jpg', '/content/drive/MyDrive/tealeafrenamedfolder/red leaf spot/red leaf spot131.jpg', '/content/drive/MyDrive/tealeafrenamedfolder/red leaf spot/red leaf spot132.jpg', '/content/drive/MyDrive/tealeafrenamedfolder/red leaf spot/red leaf spot133.jpg', '/content/drive/MyDrive/tealeafrenamedfolder/red leaf spot/red leaf spot134.jpg', '/content/drive/MyDrive/tealeafrenamedfolder/red leaf spot/red leaf spot135.jpg', '/content/drive/MyDrive/tealeafrenamedfolder/red leaf spot/red leaf spot136.jpg', '/content/drive/MyDrive/tealeafrenamedfolder/red leaf spot/red leaf spot137.jpg', '/content/drive/MyDrive/tealeafrenamedfolder/red leaf spot/red leaf spot138.jpg', '/content/drive/MyDrive/tealeafrenamedfolder/red leaf spot/red leaf spot139.jpg', '/content/drive/MyDrive/tealeafrenamedfolder/red leaf spot/red leaf spot140.jpg', '/content/drive/MyDrive/tealeafrenamedfolder/red leaf spot/red leaf spot141.jpg', '/content/drive/MyDrive/tealeafrenamedfolder/red leaf spot/red leaf spot142.jpg', '/content/drive/MyDrive/tealeafrenamedfolder/red leaf spot/red leaf spot143.jpg'], 'healthy': ['/content/drive/MyDrive/tealeafrenamedfolder/healthy/healthy1.jpg', '/content/drive/MyDrive/tealeafrenamedfolder/healthy/healthy2.jpg', '/content/drive/MyDrive/tealeafrenamedfolder/healthy/healthy3.jpg', '/content/drive/MyDrive/tealeafrenamedfolder/healthy/healthy4.jpg', '/content/drive/MyDrive/tealeafrenamedfolder/healthy/healthy5.jpg', '/content/drive/MyDrive/tealeafrenamedfolder/healthy/healthy6.jpg', '/content/drive/MyDrive/tealeafrenamedfolder/healthy/healthy7.jpg', '/content/drive/MyDrive/tealeafrenamedfolder/healthy/healthy8.jpg', '/content/drive/MyDrive/tealeafrenamedfolder/healthy/healthy9.jpg', '/content/drive/MyDrive/tealeafrenamedfolder/healthy/healthy10.jpg', '/content/drive/MyDrive/tealeafrenamedfolder/healthy/healthy11.jpg', '/content/drive/MyDrive/tealeafrenamedfolder/healthy/healthy12.jpg', '/content/drive/MyDrive/tealeafrenamedfolder/healthy/healthy13.jpg', '/content/drive/MyDrive/tealeafrenamedfolder/healthy/healthy14.jpg', '/content/drive/MyDrive/tealeafrenamedfolder/healthy/healthy15.jpg', '/content/drive/MyDrive/tealeafrenamedfolder/healthy/healthy16.jpg', '/content/drive/MyDrive/tealeafrenamedfolder/healthy/healthy17.jpg', '/content/drive/MyDrive/tealeafrenamedfolder/healthy/healthy18.jpg', '/content/drive/MyDrive/tealeafrenamedfolder/healthy/healthy19.jpg', '/content/drive/MyDrive/tealeafrenamedfolder/healthy/healthy20.jpg', '/content/drive/MyDrive/tealeafrenamedfolder/healthy/healthy21.jpg', '/content/drive/MyDrive/tealeafrenamedfolder/healthy/healthy22.jpg', '/content/drive/MyDrive/tealeafrenamedfolder/healthy/healthy23.jpg', '/content/drive/MyDrive/tealeafrenamedfolder/healthy/healthy24.jpg', '/content/drive/MyDrive/tealeafrenamedfolder/healthy/healthy25.jpg', '/content/drive/MyDrive/tealeafrenamedfolder/healthy/healthy26.jpg', '/content/drive/MyDrive/tealeafrenamedfolder/healthy/healthy27.jpg', '/content/drive/MyDrive/tealeafrenamedfolder/healthy/healthy28.jpg', '/content/drive/MyDrive/tealeafrenamedfolder/healthy/healthy29.jpg', '/content/drive/MyDrive/tealeafrenamedfolder/healthy/healthy30.jpg', '/content/drive/MyDrive/tealeafrenamedfolder/healthy/healthy31.jpg', '/content/drive/MyDrive/tealeafrenamedfolder/healthy/healthy32.jpg', '/content/drive/MyDrive/tealeafrenamedfolder/healthy/healthy33.jpg', '/content/drive/MyDrive/tealeafrenamedfolder/healthy/healthy34.jpg', '/content/drive/MyDrive/tealeafrenamedfolder/healthy/healthy35.jpg', '/content/drive/MyDrive/tealeafrenamedfolder/healthy/healthy36.jpg', '/content/drive/MyDrive/tealeafrenamedfolder/healthy/healthy37.jpg', '/content/drive/MyDrive/tealeafrenamedfolder/healthy/healthy38.jpg', '/content/drive/MyDrive/tealeafrenamedfolder/healthy/healthy39.jpg', '/content/drive/MyDrive/tealeafrenamedfolder/healthy/healthy40.jpg', '/content/drive/MyDrive/tealeafrenamedfolder/healthy/healthy41.jpg', '/content/drive/MyDrive/tealeafrenamedfolder/healthy/healthy42.jpg', '/content/drive/MyDrive/tealeafrenamedfolder/healthy/healthy43.jpg', '/content/drive/MyDrive/tealeafrenamedfolder/healthy/healthy44.jpg', '/content/drive/MyDrive/tealeafrenamedfolder/healthy/healthy45.jpg', '/content/drive/MyDrive/tealeafrenamedfolder/healthy/healthy46.jpg', '/content/drive/MyDrive/tealeafrenamedfolder/healthy/healthy47.jpg', '/content/drive/MyDrive/tealeafrenamedfolder/healthy/healthy48.jpg', '/content/drive/MyDrive/tealeafrenamedfolder/healthy/healthy49.jpg', '/content/drive/MyDrive/tealeafrenamedfolder/healthy/healthy50.jpg', '/content/drive/MyDrive/tealeafrenamedfolder/healthy/healthy51.jpg', '/content/drive/MyDrive/tealeafrenamedfolder/healthy/healthy52.jpg', '/content/drive/MyDrive/tealeafrenamedfolder/healthy/healthy53.jpg', '/content/drive/MyDrive/tealeafrenamedfolder/healthy/healthy54.jpg', '/content/drive/MyDrive/tealeafrenamedfolder/healthy/healthy55.jpg', '/content/drive/MyDrive/tealeafrenamedfolder/healthy/healthy56.jpg', '/content/drive/MyDrive/tealeafrenamedfolder/healthy/healthy57.jpg', '/content/drive/MyDrive/tealeafrenamedfolder/healthy/healthy58.jpg', '/content/drive/MyDrive/tealeafrenamedfolder/healthy/healthy59.jpg', '/content/drive/MyDrive/tealeafrenamedfolder/healthy/healthy60.jpg', '/content/drive/MyDrive/tealeafrenamedfolder/healthy/healthy61.jpg', '/content/drive/MyDrive/tealeafrenamedfolder/healthy/healthy62.jpg', '/content/drive/MyDrive/tealeafrenamedfolder/healthy/healthy63.jpg', '/content/drive/MyDrive/tealeafrenamedfolder/healthy/healthy64.jpg', '/content/drive/MyDrive/tealeafrenamedfolder/healthy/healthy65.jpg', '/content/drive/MyDrive/tealeafrenamedfolder/healthy/healthy66.jpg', '/content/drive/MyDrive/tealeafrenamedfolder/healthy/healthy67.jpg', '/content/drive/MyDrive/tealeafrenamedfolder/healthy/healthy68.jpg', '/content/drive/MyDrive/tealeafrenamedfolder/healthy/healthy69.jpg', '/content/drive/MyDrive/tealeafrenamedfolder/healthy/healthy70.jpg', '/content/drive/MyDrive/tealeafrenamedfolder/healthy/healthy71.jpg', '/content/drive/MyDrive/tealeafrenamedfolder/healthy/healthy72.jpg', '/content/drive/MyDrive/tealeafrenamedfolder/healthy/healthy73.jpg'], 'gray light': ['/content/drive/MyDrive/tealeafrenamedfolder/gray light/gray light80.jpg', '/content/drive/MyDrive/tealeafrenamedfolder/gray light/gray light81.jpg', '/content/drive/MyDrive/tealeafrenamedfolder/gray light/gray light82.jpg', '/content/drive/MyDrive/tealeafrenamedfolder/gray light/gray light83.jpg', '/content/drive/MyDrive/tealeafrenamedfolder/gray light/gray light84.jpg', '/content/drive/MyDrive/tealeafrenamedfolder/gray light/gray light85.jpg', '/content/drive/MyDrive/tealeafrenamedfolder/gray light/gray light86.jpg', '/content/drive/MyDrive/tealeafrenamedfolder/gray light/gray light87.jpg', '/content/drive/MyDrive/tealeafrenamedfolder/gray light/gray light88.jpg', '/content/drive/MyDrive/tealeafrenamedfolder/gray light/gray light89.jpg', '/content/drive/MyDrive/tealeafrenamedfolder/gray light/gray light90.jpg', '/content/drive/MyDrive/tealeafrenamedfolder/gray light/gray light91.jpg', '/content/drive/MyDrive/tealeafrenamedfolder/gray light/gray light92.jpg', '/content/drive/MyDrive/tealeafrenamedfolder/gray light/gray light93.jpg', '/content/drive/MyDrive/tealeafrenamedfolder/gray light/gray light94.jpg', '/content/drive/MyDrive/tealeafrenamedfolder/gray light/gray light95.jpg', '/content/drive/MyDrive/tealeafrenamedfolder/gray light/gray light96.jpg', '/content/drive/MyDrive/tealeafrenamedfolder/gray light/gray light97.jpg', '/content/drive/MyDrive/tealeafrenamedfolder/gray light/gray light98.jpg', '/content/drive/MyDrive/tealeafrenamedfolder/gray light/gray light99.jpg', '/content/drive/MyDrive/tealeafrenamedfolder/gray light/gray light100.jpg', '/content/drive/MyDrive/tealeafrenamedfolder/gray light/gray light1.jpg', '/content/drive/MyDrive/tealeafrenamedfolder/gray light/gray light2.jpg', '/content/drive/MyDrive/tealeafrenamedfolder/gray light/gray light3.jpg', '/content/drive/MyDrive/tealeafrenamedfolder/gray light/gray light4.jpg', '/content/drive/MyDrive/tealeafrenamedfolder/gray light/gray light5.jpg', '/content/drive/MyDrive/tealeafrenamedfolder/gray light/gray light7.jpg', '/content/drive/MyDrive/tealeafrenamedfolder/gray light/gray light6.jpg', '/content/drive/MyDrive/tealeafrenamedfolder/gray light/gray light8.jpg', '/content/drive/MyDrive/tealeafrenamedfolder/gray light/gray light9.jpg', '/content/drive/MyDrive/tealeafrenamedfolder/gray light/gray light10.jpg', '/content/drive/MyDrive/tealeafrenamedfolder/gray light/gray light11.jpg', '/content/drive/MyDrive/tealeafrenamedfolder/gray light/gray light12.jpg', '/content/drive/MyDrive/tealeafrenamedfolder/gray light/gray light13.jpg', '/content/drive/MyDrive/tealeafrenamedfolder/gray light/gray light14.jpg', '/content/drive/MyDrive/tealeafrenamedfolder/gray light/gray light16.jpg', '/content/drive/MyDrive/tealeafrenamedfolder/gray light/gray light15.jpg', '/content/drive/MyDrive/tealeafrenamedfolder/gray light/gray light17.jpg', '/content/drive/MyDrive/tealeafrenamedfolder/gray light/gray light18.jpg', '/content/drive/MyDrive/tealeafrenamedfolder/gray light/gray light19.jpg', '/content/drive/MyDrive/tealeafrenamedfolder/gray light/gray light20.jpg', '/content/drive/MyDrive/tealeafrenamedfolder/gray light/gray light22.jpg', '/content/drive/MyDrive/tealeafrenamedfolder/gray light/gray light21.jpg', '/content/drive/MyDrive/tealeafrenamedfolder/gray light/gray light25.jpg', '/content/drive/MyDrive/tealeafrenamedfolder/gray light/gray light23.jpg', '/content/drive/MyDrive/tealeafrenamedfolder/gray light/gray light24.jpg', '/content/drive/MyDrive/tealeafrenamedfolder/gray light/gray light27.jpg', '/content/drive/MyDrive/tealeafrenamedfolder/gray light/gray light26.jpg', '/content/drive/MyDrive/tealeafrenamedfolder/gray light/gray light29.jpg', '/content/drive/MyDrive/tealeafrenamedfolder/gray light/gray light28.jpg', '/content/drive/MyDrive/tealeafrenamedfolder/gray light/gray light30.jpg', '/content/drive/MyDrive/tealeafrenamedfolder/gray light/gray light31.jpg', '/content/drive/MyDrive/tealeafrenamedfolder/gray light/gray light32.jpg', '/content/drive/MyDrive/tealeafrenamedfolder/gray light/gray light33.jpg', '/content/drive/MyDrive/tealeafrenamedfolder/gray light/gray light35.jpg', '/content/drive/MyDrive/tealeafrenamedfolder/gray light/gray light34.jpg', '/content/drive/MyDrive/tealeafrenamedfolder/gray light/gray light36.jpg', '/content/drive/MyDrive/tealeafrenamedfolder/gray light/gray light37.jpg', '/content/drive/MyDrive/tealeafrenamedfolder/gray light/gray light38.jpg', '/content/drive/MyDrive/tealeafrenamedfolder/gray light/gray light39.jpg', '/content/drive/MyDrive/tealeafrenamedfolder/gray light/gray light41.jpg', '/content/drive/MyDrive/tealeafrenamedfolder/gray light/gray light40.jpg', '/content/drive/MyDrive/tealeafrenamedfolder/gray light/gray light42.jpg', '/content/drive/MyDrive/tealeafrenamedfolder/gray light/gray light43.jpg', '/content/drive/MyDrive/tealeafrenamedfolder/gray light/gray light44.jpg', '/content/drive/MyDrive/tealeafrenamedfolder/gray light/gray light45.jpg', '/content/drive/MyDrive/tealeafrenamedfolder/gray light/gray light47.jpg', '/content/drive/MyDrive/tealeafrenamedfolder/gray light/gray light46.jpg', '/content/drive/MyDrive/tealeafrenamedfolder/gray light/gray light48.jpg', '/content/drive/MyDrive/tealeafrenamedfolder/gray light/gray light49.jpg', '/content/drive/MyDrive/tealeafrenamedfolder/gray light/gray light50.jpg', '/content/drive/MyDrive/tealeafrenamedfolder/gray light/gray light51.jpg', '/content/drive/MyDrive/tealeafrenamedfolder/gray light/gray light52.jpg', '/content/drive/MyDrive/tealeafrenamedfolder/gray light/gray light53.jpg', '/content/drive/MyDrive/tealeafrenamedfolder/gray light/gray light54.jpg', '/content/drive/MyDrive/tealeafrenamedfolder/gray light/gray light56.jpg', '/content/drive/MyDrive/tealeafrenamedfolder/gray light/gray light55.jpg', '/content/drive/MyDrive/tealeafrenamedfolder/gray light/gray light57.jpg', '/content/drive/MyDrive/tealeafrenamedfolder/gray light/gray light58.jpg', '/content/drive/MyDrive/tealeafrenamedfolder/gray light/gray light59.jpg', '/content/drive/MyDrive/tealeafrenamedfolder/gray light/gray light60.jpg', '/content/drive/MyDrive/tealeafrenamedfolder/gray light/gray light61.jpg', '/content/drive/MyDrive/tealeafrenamedfolder/gray light/gray light62.jpg', '/content/drive/MyDrive/tealeafrenamedfolder/gray light/gray light63.jpg', '/content/drive/MyDrive/tealeafrenamedfolder/gray light/gray light64.jpg', '/content/drive/MyDrive/tealeafrenamedfolder/gray light/gray light65.jpg', '/content/drive/MyDrive/tealeafrenamedfolder/gray light/gray light66.jpg', '/content/drive/MyDrive/tealeafrenamedfolder/gray light/gray light68.jpg', '/content/drive/MyDrive/tealeafrenamedfolder/gray light/gray light67.jpg', '/content/drive/MyDrive/tealeafrenamedfolder/gray light/gray light70.jpg', '/content/drive/MyDrive/tealeafrenamedfolder/gray light/gray light69.jpg', '/content/drive/MyDrive/tealeafrenamedfolder/gray light/gray light72.jpg', '/content/drive/MyDrive/tealeafrenamedfolder/gray light/gray light71.jpg', '/content/drive/MyDrive/tealeafrenamedfolder/gray light/gray light73.jpg', '/content/drive/MyDrive/tealeafrenamedfolder/gray light/gray light74.jpg', '/content/drive/MyDrive/tealeafrenamedfolder/gray light/gray light75.jpg', '/content/drive/MyDrive/tealeafrenamedfolder/gray light/gray light76.jpg', '/content/drive/MyDrive/tealeafrenamedfolder/gray light/gray light77.jpg', '/content/drive/MyDrive/tealeafrenamedfolder/gray light/gray light78.jpg', '/content/drive/MyDrive/tealeafrenamedfolder/gray light/gray light79.jpg'], 'brown blight': ['/content/drive/MyDrive/tealeafrenamedfolder/brown blight/brown blight1.jpg', '/content/drive/MyDrive/tealeafrenamedfolder/brown blight/brown blight2.jpg', '/content/drive/MyDrive/tealeafrenamedfolder/brown blight/brown blight3.jpg', '/content/drive/MyDrive/tealeafrenamedfolder/brown blight/brown blight4.jpg', '/content/drive/MyDrive/tealeafrenamedfolder/brown blight/brown blight5.jpg', '/content/drive/MyDrive/tealeafrenamedfolder/brown blight/brown blight6.jpg', '/content/drive/MyDrive/tealeafrenamedfolder/brown blight/brown blight7.jpg', '/content/drive/MyDrive/tealeafrenamedfolder/brown blight/brown blight8.jpg', '/content/drive/MyDrive/tealeafrenamedfolder/brown blight/brown blight9.jpg', '/content/drive/MyDrive/tealeafrenamedfolder/brown blight/brown blight10.jpg', '/content/drive/MyDrive/tealeafrenamedfolder/brown blight/brown blight11.jpg', '/content/drive/MyDrive/tealeafrenamedfolder/brown blight/brown blight12.jpg', '/content/drive/MyDrive/tealeafrenamedfolder/brown blight/brown blight13.jpg', '/content/drive/MyDrive/tealeafrenamedfolder/brown blight/brown blight14.jpg', '/content/drive/MyDrive/tealeafrenamedfolder/brown blight/brown blight15.jpg', '/content/drive/MyDrive/tealeafrenamedfolder/brown blight/brown blight16.jpg', '/content/drive/MyDrive/tealeafrenamedfolder/brown blight/brown blight17.jpg', '/content/drive/MyDrive/tealeafrenamedfolder/brown blight/brown blight18.jpg', '/content/drive/MyDrive/tealeafrenamedfolder/brown blight/brown blight19.jpg', '/content/drive/MyDrive/tealeafrenamedfolder/brown blight/brown blight20.jpg', '/content/drive/MyDrive/tealeafrenamedfolder/brown blight/brown blight21.jpg', '/content/drive/MyDrive/tealeafrenamedfolder/brown blight/brown blight22.jpg', '/content/drive/MyDrive/tealeafrenamedfolder/brown blight/brown blight23.jpg', '/content/drive/MyDrive/tealeafrenamedfolder/brown blight/brown blight24.jpg', '/content/drive/MyDrive/tealeafrenamedfolder/brown blight/brown blight25.jpg', '/content/drive/MyDrive/tealeafrenamedfolder/brown blight/brown blight26.jpg', '/content/drive/MyDrive/tealeafrenamedfolder/brown blight/brown blight27.jpg', '/content/drive/MyDrive/tealeafrenamedfolder/brown blight/brown blight28.jpg', '/content/drive/MyDrive/tealeafrenamedfolder/brown blight/brown blight29.jpg', '/content/drive/MyDrive/tealeafrenamedfolder/brown blight/brown blight30.jpg', '/content/drive/MyDrive/tealeafrenamedfolder/brown blight/brown blight31.jpg', '/content/drive/MyDrive/tealeafrenamedfolder/brown blight/brown blight32.jpg', '/content/drive/MyDrive/tealeafrenamedfolder/brown blight/brown blight33.jpg', '/content/drive/MyDrive/tealeafrenamedfolder/brown blight/brown blight34.jpg', '/content/drive/MyDrive/tealeafrenamedfolder/brown blight/brown blight35.jpg', '/content/drive/MyDrive/tealeafrenamedfolder/brown blight/brown blight36.jpg', '/content/drive/MyDrive/tealeafrenamedfolder/brown blight/brown blight37.jpg', '/content/drive/MyDrive/tealeafrenamedfolder/brown blight/brown blight38.jpg', '/content/drive/MyDrive/tealeafrenamedfolder/brown blight/brown blight39.jpg', '/content/drive/MyDrive/tealeafrenamedfolder/brown blight/brown blight40.jpg', '/content/drive/MyDrive/tealeafrenamedfolder/brown blight/brown blight41.jpg', '/content/drive/MyDrive/tealeafrenamedfolder/brown blight/brown blight42.jpg', '/content/drive/MyDrive/tealeafrenamedfolder/brown blight/brown blight43.jpg', '/content/drive/MyDrive/tealeafrenamedfolder/brown blight/brown blight44.jpg', '/content/drive/MyDrive/tealeafrenamedfolder/brown blight/brown blight45.jpg', '/content/drive/MyDrive/tealeafrenamedfolder/brown blight/brown blight46.jpg', '/content/drive/MyDrive/tealeafrenamedfolder/brown blight/brown blight47.jpg', '/content/drive/MyDrive/tealeafrenamedfolder/brown blight/brown blight48.jpg', '/content/drive/MyDrive/tealeafrenamedfolder/brown blight/brown blight49.jpg', '/content/drive/MyDrive/tealeafrenamedfolder/brown blight/brown blight50.jpg', '/content/drive/MyDrive/tealeafrenamedfolder/brown blight/brown blight51.jpg', '/content/drive/MyDrive/tealeafrenamedfolder/brown blight/brown blight52.jpg', '/content/drive/MyDrive/tealeafrenamedfolder/brown blight/brown blight53.jpg', '/content/drive/MyDrive/tealeafrenamedfolder/brown blight/brown blight54.jpg', '/content/drive/MyDrive/tealeafrenamedfolder/brown blight/brown blight55.jpg', '/content/drive/MyDrive/tealeafrenamedfolder/brown blight/brown blight56.jpg', '/content/drive/MyDrive/tealeafrenamedfolder/brown blight/brown blight57.jpg', '/content/drive/MyDrive/tealeafrenamedfolder/brown blight/brown blight58.jpg', '/content/drive/MyDrive/tealeafrenamedfolder/brown blight/brown blight59.jpg', '/content/drive/MyDrive/tealeafrenamedfolder/brown blight/brown blight60.jpg', '/content/drive/MyDrive/tealeafrenamedfolder/brown blight/brown blight61.jpg', '/content/drive/MyDrive/tealeafrenamedfolder/brown blight/brown blight62.jpg', '/content/drive/MyDrive/tealeafrenamedfolder/brown blight/brown blight63.jpg', '/content/drive/MyDrive/tealeafrenamedfolder/brown blight/brown blight64.jpg', '/content/drive/MyDrive/tealeafrenamedfolder/brown blight/brown blight65.jpg', '/content/drive/MyDrive/tealeafrenamedfolder/brown blight/brown blight66.jpg', '/content/drive/MyDrive/tealeafrenamedfolder/brown blight/brown blight67.jpg', '/content/drive/MyDrive/tealeafrenamedfolder/brown blight/brown blight68.jpg', '/content/drive/MyDrive/tealeafrenamedfolder/brown blight/brown blight69.jpg', '/content/drive/MyDrive/tealeafrenamedfolder/brown blight/brown blight70.jpg', '/content/drive/MyDrive/tealeafrenamedfolder/brown blight/brown blight71.jpg', '/content/drive/MyDrive/tealeafrenamedfolder/brown blight/brown blight72.jpg', '/content/drive/MyDrive/tealeafrenamedfolder/brown blight/brown blight73.jpg', '/content/drive/MyDrive/tealeafrenamedfolder/brown blight/brown blight74.jpg', '/content/drive/MyDrive/tealeafrenamedfolder/brown blight/brown blight75.jpg', '/content/drive/MyDrive/tealeafrenamedfolder/brown blight/brown blight76.jpg', '/content/drive/MyDrive/tealeafrenamedfolder/brown blight/brown blight77.jpg', '/content/drive/MyDrive/tealeafrenamedfolder/brown blight/brown blight78.jpg', '/content/drive/MyDrive/tealeafrenamedfolder/brown blight/brown blight79.jpg', '/content/drive/MyDrive/tealeafrenamedfolder/brown blight/brown blight80.jpg', '/content/drive/MyDrive/tealeafrenamedfolder/brown blight/brown blight81.jpg', '/content/drive/MyDrive/tealeafrenamedfolder/brown blight/brown blight82.jpg', '/content/drive/MyDrive/tealeafrenamedfolder/brown blight/brown blight83.jpg', '/content/drive/MyDrive/tealeafrenamedfolder/brown blight/brown blight84.jpg', '/content/drive/MyDrive/tealeafrenamedfolder/brown blight/brown blight85.jpg', '/content/drive/MyDrive/tealeafrenamedfolder/brown blight/brown blight86.jpg', '/content/drive/MyDrive/tealeafrenamedfolder/brown blight/brown blight87.jpg', '/content/drive/MyDrive/tealeafrenamedfolder/brown blight/brown blight88.jpg', '/content/drive/MyDrive/tealeafrenamedfolder/brown blight/brown blight89.jpg', '/content/drive/MyDrive/tealeafrenamedfolder/brown blight/brown blight90.jpg', '/content/drive/MyDrive/tealeafrenamedfolder/brown blight/brown blight91.jpg', '/content/drive/MyDrive/tealeafrenamedfolder/brown blight/brown blight92.jpg', '/content/drive/MyDrive/tealeafrenamedfolder/brown blight/brown blight93.jpg', '/content/drive/MyDrive/tealeafrenamedfolder/brown blight/brown blight94.jpg', '/content/drive/MyDrive/tealeafrenamedfolder/brown blight/brown blight95.jpg', '/content/drive/MyDrive/tealeafrenamedfolder/brown blight/brown blight96.jpg', '/content/drive/MyDrive/tealeafrenamedfolder/brown blight/brown blight97.jpg', '/content/drive/MyDrive/tealeafrenamedfolder/brown blight/brown blight98.jpg', '/content/drive/MyDrive/tealeafrenamedfolder/brown blight/brown blight99.jpg', '/content/drive/MyDrive/tealeafrenamedfolder/brown blight/brown blight100.jpg', '/content/drive/MyDrive/tealeafrenamedfolder/brown blight/brown blight101.jpg', '/content/drive/MyDrive/tealeafrenamedfolder/brown blight/brown blight102.jpg', '/content/drive/MyDrive/tealeafrenamedfolder/brown blight/brown blight103.jpg', '/content/drive/MyDrive/tealeafrenamedfolder/brown blight/brown blight104.jpg', '/content/drive/MyDrive/tealeafrenamedfolder/brown blight/brown blight105.jpg', '/content/drive/MyDrive/tealeafrenamedfolder/brown blight/brown blight106.jpg', '/content/drive/MyDrive/tealeafrenamedfolder/brown blight/brown blight107.jpg', '/content/drive/MyDrive/tealeafrenamedfolder/brown blight/brown blight108.jpg', '/content/drive/MyDrive/tealeafrenamedfolder/brown blight/brown blight109.jpg', '/content/drive/MyDrive/tealeafrenamedfolder/brown blight/brown blight110.jpg', '/content/drive/MyDrive/tealeafrenamedfolder/brown blight/brown blight111.jpg', '/content/drive/MyDrive/tealeafrenamedfolder/brown blight/brown blight112.jpg', '/content/drive/MyDrive/tealeafrenamedfolder/brown blight/brown blight113.jpg'], 'bird eye spot': ['/content/drive/MyDrive/tealeafrenamedfolder/bird eye spot/bird eye spot1.jpg', '/content/drive/MyDrive/tealeafrenamedfolder/bird eye spot/bird eye spot2.jpg', '/content/drive/MyDrive/tealeafrenamedfolder/bird eye spot/bird eye spot3.jpg', '/content/drive/MyDrive/tealeafrenamedfolder/bird eye spot/bird eye spot4.jpg', '/content/drive/MyDrive/tealeafrenamedfolder/bird eye spot/bird eye spot5.jpg', '/content/drive/MyDrive/tealeafrenamedfolder/bird eye spot/bird eye spot6.jpg', '/content/drive/MyDrive/tealeafrenamedfolder/bird eye spot/bird eye spot7.jpg', '/content/drive/MyDrive/tealeafrenamedfolder/bird eye spot/bird eye spot8.jpg', '/content/drive/MyDrive/tealeafrenamedfolder/bird eye spot/bird eye spot9.jpg', '/content/drive/MyDrive/tealeafrenamedfolder/bird eye spot/bird eye spot10.jpg', '/content/drive/MyDrive/tealeafrenamedfolder/bird eye spot/bird eye spot11.jpg', '/content/drive/MyDrive/tealeafrenamedfolder/bird eye spot/bird eye spot12.jpg', '/content/drive/MyDrive/tealeafrenamedfolder/bird eye spot/bird eye spot13.jpg', '/content/drive/MyDrive/tealeafrenamedfolder/bird eye spot/bird eye spot14.jpg', '/content/drive/MyDrive/tealeafrenamedfolder/bird eye spot/bird eye spot15.jpg', '/content/drive/MyDrive/tealeafrenamedfolder/bird eye spot/bird eye spot16.jpg', '/content/drive/MyDrive/tealeafrenamedfolder/bird eye spot/bird eye spot17.jpg', '/content/drive/MyDrive/tealeafrenamedfolder/bird eye spot/bird eye spot18.jpg', '/content/drive/MyDrive/tealeafrenamedfolder/bird eye spot/bird eye spot19.jpg', '/content/drive/MyDrive/tealeafrenamedfolder/bird eye spot/bird eye spot20.jpg', '/content/drive/MyDrive/tealeafrenamedfolder/bird eye spot/bird eye spot21.jpg', '/content/drive/MyDrive/tealeafrenamedfolder/bird eye spot/bird eye spot22.jpg', '/content/drive/MyDrive/tealeafrenamedfolder/bird eye spot/bird eye spot23.jpg', '/content/drive/MyDrive/tealeafrenamedfolder/bird eye spot/bird eye spot24.jpg', '/content/drive/MyDrive/tealeafrenamedfolder/bird eye spot/bird eye spot25.jpg', '/content/drive/MyDrive/tealeafrenamedfolder/bird eye spot/bird eye spot26.jpg', '/content/drive/MyDrive/tealeafrenamedfolder/bird eye spot/bird eye spot27.jpg', '/content/drive/MyDrive/tealeafrenamedfolder/bird eye spot/bird eye spot28.jpg', '/content/drive/MyDrive/tealeafrenamedfolder/bird eye spot/bird eye spot29.jpg', '/content/drive/MyDrive/tealeafrenamedfolder/bird eye spot/bird eye spot30.jpg', '/content/drive/MyDrive/tealeafrenamedfolder/bird eye spot/bird eye spot31.jpg', '/content/drive/MyDrive/tealeafrenamedfolder/bird eye spot/bird eye spot32.jpg', '/content/drive/MyDrive/tealeafrenamedfolder/bird eye spot/bird eye spot33.jpg', '/content/drive/MyDrive/tealeafrenamedfolder/bird eye spot/bird eye spot34.jpg', '/content/drive/MyDrive/tealeafrenamedfolder/bird eye spot/bird eye spot35.jpg', '/content/drive/MyDrive/tealeafrenamedfolder/bird eye spot/bird eye spot36.jpg', '/content/drive/MyDrive/tealeafrenamedfolder/bird eye spot/bird eye spot37.jpg', '/content/drive/MyDrive/tealeafrenamedfolder/bird eye spot/bird eye spot38.jpg', '/content/drive/MyDrive/tealeafrenamedfolder/bird eye spot/bird eye spot39.jpg', '/content/drive/MyDrive/tealeafrenamedfolder/bird eye spot/bird eye spot40.jpg', '/content/drive/MyDrive/tealeafrenamedfolder/bird eye spot/bird eye spot41.jpg', '/content/drive/MyDrive/tealeafrenamedfolder/bird eye spot/bird eye spot42.jpg', '/content/drive/MyDrive/tealeafrenamedfolder/bird eye spot/bird eye spot43.jpg', '/content/drive/MyDrive/tealeafrenamedfolder/bird eye spot/bird eye spot44.jpg', '/content/drive/MyDrive/tealeafrenamedfolder/bird eye spot/bird eye spot45.jpg', '/content/drive/MyDrive/tealeafrenamedfolder/bird eye spot/bird eye spot46.jpg', '/content/drive/MyDrive/tealeafrenamedfolder/bird eye spot/bird eye spot47.jpg', '/content/drive/MyDrive/tealeafrenamedfolder/bird eye spot/bird eye spot48.jpg', '/content/drive/MyDrive/tealeafrenamedfolder/bird eye spot/bird eye spot49.jpg', '/content/drive/MyDrive/tealeafrenamedfolder/bird eye spot/bird eye spot50.jpg', '/content/drive/MyDrive/tealeafrenamedfolder/bird eye spot/bird eye spot51.jpg', '/content/drive/MyDrive/tealeafrenamedfolder/bird eye spot/bird eye spot52.jpg', '/content/drive/MyDrive/tealeafrenamedfolder/bird eye spot/bird eye spot53.jpg', '/content/drive/MyDrive/tealeafrenamedfolder/bird eye spot/bird eye spot54.jpg', '/content/drive/MyDrive/tealeafrenamedfolder/bird eye spot/bird eye spot55.jpg', '/content/drive/MyDrive/tealeafrenamedfolder/bird eye spot/bird eye spot56.jpg', '/content/drive/MyDrive/tealeafrenamedfolder/bird eye spot/bird eye spot57.jpg', '/content/drive/MyDrive/tealeafrenamedfolder/bird eye spot/bird eye spot58.jpg', '/content/drive/MyDrive/tealeafrenamedfolder/bird eye spot/bird eye spot59.jpg', '/content/drive/MyDrive/tealeafrenamedfolder/bird eye spot/bird eye spot60.jpg', '/content/drive/MyDrive/tealeafrenamedfolder/bird eye spot/bird eye spot61.jpg', '/content/drive/MyDrive/tealeafrenamedfolder/bird eye spot/bird eye spot62.jpg', '/content/drive/MyDrive/tealeafrenamedfolder/bird eye spot/bird eye spot63.jpg', '/content/drive/MyDrive/tealeafrenamedfolder/bird eye spot/bird eye spot64.jpg', '/content/drive/MyDrive/tealeafrenamedfolder/bird eye spot/bird eye spot65.jpg', '/content/drive/MyDrive/tealeafrenamedfolder/bird eye spot/bird eye spot66.jpg', '/content/drive/MyDrive/tealeafrenamedfolder/bird eye spot/bird eye spot67.jpg', '/content/drive/MyDrive/tealeafrenamedfolder/bird eye spot/bird eye spot68.jpg', '/content/drive/MyDrive/tealeafrenamedfolder/bird eye spot/bird eye spot69.jpg', '/content/drive/MyDrive/tealeafrenamedfolder/bird eye spot/bird eye spot70.jpg', '/content/drive/MyDrive/tealeafrenamedfolder/bird eye spot/bird eye spot71.jpg', '/content/drive/MyDrive/tealeafrenamedfolder/bird eye spot/bird eye spot72.jpg', '/content/drive/MyDrive/tealeafrenamedfolder/bird eye spot/bird eye spot73.jpg', '/content/drive/MyDrive/tealeafrenamedfolder/bird eye spot/bird eye spot74.jpg', '/content/drive/MyDrive/tealeafrenamedfolder/bird eye spot/bird eye spot75.jpg', '/content/drive/MyDrive/tealeafrenamedfolder/bird eye spot/bird eye spot76.jpg', '/content/drive/MyDrive/tealeafrenamedfolder/bird eye spot/bird eye spot77.jpg', '/content/drive/MyDrive/tealeafrenamedfolder/bird eye spot/bird eye spot78.jpg', '/content/drive/MyDrive/tealeafrenamedfolder/bird eye spot/bird eye spot79.jpg', '/content/drive/MyDrive/tealeafrenamedfolder/bird eye spot/bird eye spot80.jpg', '/content/drive/MyDrive/tealeafrenamedfolder/bird eye spot/bird eye spot81.jpg', '/content/drive/MyDrive/tealeafrenamedfolder/bird eye spot/bird eye spot82.jpg', '/content/drive/MyDrive/tealeafrenamedfolder/bird eye spot/bird eye spot83.jpg', '/content/drive/MyDrive/tealeafrenamedfolder/bird eye spot/bird eye spot84.jpg', '/content/drive/MyDrive/tealeafrenamedfolder/bird eye spot/bird eye spot85.jpg', '/content/drive/MyDrive/tealeafrenamedfolder/bird eye spot/bird eye spot86.jpg', '/content/drive/MyDrive/tealeafrenamedfolder/bird eye spot/bird eye spot87.jpg', '/content/drive/MyDrive/tealeafrenamedfolder/bird eye spot/bird eye spot88.jpg', '/content/drive/MyDrive/tealeafrenamedfolder/bird eye spot/bird eye spot89.jpg', '/content/drive/MyDrive/tealeafrenamedfolder/bird eye spot/bird eye spot90.jpg', '/content/drive/MyDrive/tealeafrenamedfolder/bird eye spot/bird eye spot91.jpg', '/content/drive/MyDrive/tealeafrenamedfolder/bird eye spot/bird eye spot92.jpg', '/content/drive/MyDrive/tealeafrenamedfolder/bird eye spot/bird eye spot93.jpg', '/content/drive/MyDrive/tealeafrenamedfolder/bird eye spot/bird eye spot94.jpg', '/content/drive/MyDrive/tealeafrenamedfolder/bird eye spot/bird eye spot95.jpg', '/content/drive/MyDrive/tealeafrenamedfolder/bird eye spot/bird eye spot96.jpg', '/content/drive/MyDrive/tealeafrenamedfolder/bird eye spot/bird eye spot97.jpg', '/content/drive/MyDrive/tealeafrenamedfolder/bird eye spot/bird eye spot98.jpg', '/content/drive/MyDrive/tealeafrenamedfolder/bird eye spot/bird eye spot99.jpg', '/content/drive/MyDrive/tealeafrenamedfolder/bird eye spot/bird eye spot100.jpg'], 'Anthracnose': ['/content/drive/MyDrive/tealeafrenamedfolder/Anthracnose/Anthracnose1.jpg', '/content/drive/MyDrive/tealeafrenamedfolder/Anthracnose/Anthracnose2.jpg', '/content/drive/MyDrive/tealeafrenamedfolder/Anthracnose/Anthracnose3.jpg', '/content/drive/MyDrive/tealeafrenamedfolder/Anthracnose/Anthracnose4.jpg', '/content/drive/MyDrive/tealeafrenamedfolder/Anthracnose/Anthracnose5.jpg', '/content/drive/MyDrive/tealeafrenamedfolder/Anthracnose/Anthracnose6.jpg', '/content/drive/MyDrive/tealeafrenamedfolder/Anthracnose/Anthracnose7.jpg', '/content/drive/MyDrive/tealeafrenamedfolder/Anthracnose/Anthracnose8.jpg', '/content/drive/MyDrive/tealeafrenamedfolder/Anthracnose/Anthracnose9.jpg', '/content/drive/MyDrive/tealeafrenamedfolder/Anthracnose/Anthracnose10.jpg', '/content/drive/MyDrive/tealeafrenamedfolder/Anthracnose/Anthracnose11.jpg', '/content/drive/MyDrive/tealeafrenamedfolder/Anthracnose/Anthracnose12.jpg', '/content/drive/MyDrive/tealeafrenamedfolder/Anthracnose/Anthracnose13.jpg', '/content/drive/MyDrive/tealeafrenamedfolder/Anthracnose/Anthracnose14.jpg', '/content/drive/MyDrive/tealeafrenamedfolder/Anthracnose/Anthracnose15.jpg', '/content/drive/MyDrive/tealeafrenamedfolder/Anthracnose/Anthracnose16.jpg', '/content/drive/MyDrive/tealeafrenamedfolder/Anthracnose/Anthracnose17.jpg', '/content/drive/MyDrive/tealeafrenamedfolder/Anthracnose/Anthracnose18.jpg', '/content/drive/MyDrive/tealeafrenamedfolder/Anthracnose/Anthracnose19.jpg', '/content/drive/MyDrive/tealeafrenamedfolder/Anthracnose/Anthracnose20.jpg', '/content/drive/MyDrive/tealeafrenamedfolder/Anthracnose/Anthracnose21.jpg', '/content/drive/MyDrive/tealeafrenamedfolder/Anthracnose/Anthracnose22.jpg', '/content/drive/MyDrive/tealeafrenamedfolder/Anthracnose/Anthracnose23.jpg', '/content/drive/MyDrive/tealeafrenamedfolder/Anthracnose/Anthracnose24.jpg', '/content/drive/MyDrive/tealeafrenamedfolder/Anthracnose/Anthracnose25.jpg', '/content/drive/MyDrive/tealeafrenamedfolder/Anthracnose/Anthracnose26.jpg', '/content/drive/MyDrive/tealeafrenamedfolder/Anthracnose/Anthracnose27.jpg', '/content/drive/MyDrive/tealeafrenamedfolder/Anthracnose/Anthracnose28.jpg', '/content/drive/MyDrive/tealeafrenamedfolder/Anthracnose/Anthracnose29.jpg', '/content/drive/MyDrive/tealeafrenamedfolder/Anthracnose/Anthracnose30.jpg', '/content/drive/MyDrive/tealeafrenamedfolder/Anthracnose/Anthracnose31.jpg', '/content/drive/MyDrive/tealeafrenamedfolder/Anthracnose/Anthracnose32.jpg', '/content/drive/MyDrive/tealeafrenamedfolder/Anthracnose/Anthracnose33.jpg', '/content/drive/MyDrive/tealeafrenamedfolder/Anthracnose/Anthracnose34.jpg', '/content/drive/MyDrive/tealeafrenamedfolder/Anthracnose/Anthracnose35.jpg', '/content/drive/MyDrive/tealeafrenamedfolder/Anthracnose/Anthracnose36.jpg', '/content/drive/MyDrive/tealeafrenamedfolder/Anthracnose/Anthracnose37.jpg', '/content/drive/MyDrive/tealeafrenamedfolder/Anthracnose/Anthracnose38.jpg', '/content/drive/MyDrive/tealeafrenamedfolder/Anthracnose/Anthracnose39.jpg', '/content/drive/MyDrive/tealeafrenamedfolder/Anthracnose/Anthracnose40.jpg', '/content/drive/MyDrive/tealeafrenamedfolder/Anthracnose/Anthracnose41.jpg', '/content/drive/MyDrive/tealeafrenamedfolder/Anthracnose/Anthracnose42.jpg', '/content/drive/MyDrive/tealeafrenamedfolder/Anthracnose/Anthracnose43.jpg', '/content/drive/MyDrive/tealeafrenamedfolder/Anthracnose/Anthracnose44.jpg', '/content/drive/MyDrive/tealeafrenamedfolder/Anthracnose/Anthracnose45.jpg', '/content/drive/MyDrive/tealeafrenamedfolder/Anthracnose/Anthracnose46.jpg', '/content/drive/MyDrive/tealeafrenamedfolder/Anthracnose/Anthracnose47.jpg', '/content/drive/MyDrive/tealeafrenamedfolder/Anthracnose/Anthracnose48.jpg', '/content/drive/MyDrive/tealeafrenamedfolder/Anthracnose/Anthracnose49.jpg', '/content/drive/MyDrive/tealeafrenamedfolder/Anthracnose/Anthracnose50.jpg', '/content/drive/MyDrive/tealeafrenamedfolder/Anthracnose/Anthracnose51.jpg', '/content/drive/MyDrive/tealeafrenamedfolder/Anthracnose/Anthracnose52.jpg', '/content/drive/MyDrive/tealeafrenamedfolder/Anthracnose/Anthracnose53.jpg', '/content/drive/MyDrive/tealeafrenamedfolder/Anthracnose/Anthracnose54.jpg', '/content/drive/MyDrive/tealeafrenamedfolder/Anthracnose/Anthracnose55.jpg', '/content/drive/MyDrive/tealeafrenamedfolder/Anthracnose/Anthracnose56.jpg', '/content/drive/MyDrive/tealeafrenamedfolder/Anthracnose/Anthracnose57.jpg', '/content/drive/MyDrive/tealeafrenamedfolder/Anthracnose/Anthracnose58.jpg', '/content/drive/MyDrive/tealeafrenamedfolder/Anthracnose/Anthracnose59.jpg', '/content/drive/MyDrive/tealeafrenamedfolder/Anthracnose/Anthracnose60.jpg', '/content/drive/MyDrive/tealeafrenamedfolder/Anthracnose/Anthracnose61.jpg', '/content/drive/MyDrive/tealeafrenamedfolder/Anthracnose/Anthracnose62.jpg', '/content/drive/MyDrive/tealeafrenamedfolder/Anthracnose/Anthracnose63.jpg', '/content/drive/MyDrive/tealeafrenamedfolder/Anthracnose/Anthracnose64.jpg', '/content/drive/MyDrive/tealeafrenamedfolder/Anthracnose/Anthracnose65.jpg', '/content/drive/MyDrive/tealeafrenamedfolder/Anthracnose/Anthracnose66.jpg', '/content/drive/MyDrive/tealeafrenamedfolder/Anthracnose/Anthracnose67.jpg', '/content/drive/MyDrive/tealeafrenamedfolder/Anthracnose/Anthracnose68.jpg', '/content/drive/MyDrive/tealeafrenamedfolder/Anthracnose/Anthracnose69.jpg', '/content/drive/MyDrive/tealeafrenamedfolder/Anthracnose/Anthracnose70.jpg', '/content/drive/MyDrive/tealeafrenamedfolder/Anthracnose/Anthracnose71.jpg', '/content/drive/MyDrive/tealeafrenamedfolder/Anthracnose/Anthracnose72.jpg', '/content/drive/MyDrive/tealeafrenamedfolder/Anthracnose/Anthracnose73.jpg', '/content/drive/MyDrive/tealeafrenamedfolder/Anthracnose/Anthracnose74.jpg', '/content/drive/MyDrive/tealeafrenamedfolder/Anthracnose/Anthracnose75.jpg', '/content/drive/MyDrive/tealeafrenamedfolder/Anthracnose/Anthracnose76.jpg', '/content/drive/MyDrive/tealeafrenamedfolder/Anthracnose/Anthracnose77.jpg', '/content/drive/MyDrive/tealeafrenamedfolder/Anthracnose/Anthracnose78.jpg', '/content/drive/MyDrive/tealeafrenamedfolder/Anthracnose/Anthracnose79.jpg', '/content/drive/MyDrive/tealeafrenamedfolder/Anthracnose/Anthracnose80.jpg', '/content/drive/MyDrive/tealeafrenamedfolder/Anthracnose/Anthracnose81.jpg', '/content/drive/MyDrive/tealeafrenamedfolder/Anthracnose/Anthracnose82.jpg', '/content/drive/MyDrive/tealeafrenamedfolder/Anthracnose/Anthracnose83.jpg', '/content/drive/MyDrive/tealeafrenamedfolder/Anthracnose/Anthracnose84.jpg', '/content/drive/MyDrive/tealeafrenamedfolder/Anthracnose/Anthracnose85.jpg', '/content/drive/MyDrive/tealeafrenamedfolder/Anthracnose/Anthracnose86.jpg', '/content/drive/MyDrive/tealeafrenamedfolder/Anthracnose/Anthracnose87.jpg', '/content/drive/MyDrive/tealeafrenamedfolder/Anthracnose/Anthracnose88.jpg', '/content/drive/MyDrive/tealeafrenamedfolder/Anthracnose/Anthracnose89.jpg', '/content/drive/MyDrive/tealeafrenamedfolder/Anthracnose/Anthracnose90.jpg', '/content/drive/MyDrive/tealeafrenamedfolder/Anthracnose/Anthracnose91.jpg', '/content/drive/MyDrive/tealeafrenamedfolder/Anthracnose/Anthracnose92.jpg', '/content/drive/MyDrive/tealeafrenamedfolder/Anthracnose/Anthracnose93.jpg', '/content/drive/MyDrive/tealeafrenamedfolder/Anthracnose/Anthracnose94.jpg', '/content/drive/MyDrive/tealeafrenamedfolder/Anthracnose/Anthracnose95.jpg', '/content/drive/MyDrive/tealeafrenamedfolder/Anthracnose/Anthracnose96.jpg', '/content/drive/MyDrive/tealeafrenamedfolder/Anthracnose/Anthracnose97.jpg', '/content/drive/MyDrive/tealeafrenamedfolder/Anthracnose/Anthracnose98.jpg', '/content/drive/MyDrive/tealeafrenamedfolder/Anthracnose/Anthracnose99.jpg', '/content/drive/MyDrive/tealeafrenamedfolder/Anthracnose/Anthracnose100.jpg'], 'algal leaf': ['/content/drive/MyDrive/tealeafrenamedfolder/algal leaf/algal leaf1.jpg', '/content/drive/MyDrive/tealeafrenamedfolder/algal leaf/algal leaf2.jpg', '/content/drive/MyDrive/tealeafrenamedfolder/algal leaf/algal leaf3.jpg', '/content/drive/MyDrive/tealeafrenamedfolder/algal leaf/algal leaf4.jpg', '/content/drive/MyDrive/tealeafrenamedfolder/algal leaf/algal leaf5.jpg', '/content/drive/MyDrive/tealeafrenamedfolder/algal leaf/algal leaf6.jpg', '/content/drive/MyDrive/tealeafrenamedfolder/algal leaf/algal leaf7.jpg', '/content/drive/MyDrive/tealeafrenamedfolder/algal leaf/algal leaf8.jpg', '/content/drive/MyDrive/tealeafrenamedfolder/algal leaf/algal leaf9.jpg', '/content/drive/MyDrive/tealeafrenamedfolder/algal leaf/algal leaf10.jpg', '/content/drive/MyDrive/tealeafrenamedfolder/algal leaf/algal leaf11.jpg', '/content/drive/MyDrive/tealeafrenamedfolder/algal leaf/algal leaf12.jpg', '/content/drive/MyDrive/tealeafrenamedfolder/algal leaf/algal leaf13.jpg', '/content/drive/MyDrive/tealeafrenamedfolder/algal leaf/algal leaf14.jpg', '/content/drive/MyDrive/tealeafrenamedfolder/algal leaf/algal leaf15.jpg', '/content/drive/MyDrive/tealeafrenamedfolder/algal leaf/algal leaf16.jpg', '/content/drive/MyDrive/tealeafrenamedfolder/algal leaf/algal leaf17.jpg', '/content/drive/MyDrive/tealeafrenamedfolder/algal leaf/algal leaf18.jpg', '/content/drive/MyDrive/tealeafrenamedfolder/algal leaf/algal leaf19.jpg', '/content/drive/MyDrive/tealeafrenamedfolder/algal leaf/algal leaf20.jpg', '/content/drive/MyDrive/tealeafrenamedfolder/algal leaf/algal leaf21.jpg', '/content/drive/MyDrive/tealeafrenamedfolder/algal leaf/algal leaf22.jpg', '/content/drive/MyDrive/tealeafrenamedfolder/algal leaf/algal leaf23.jpg', '/content/drive/MyDrive/tealeafrenamedfolder/algal leaf/algal leaf24.jpg', '/content/drive/MyDrive/tealeafrenamedfolder/algal leaf/algal leaf25.jpg', '/content/drive/MyDrive/tealeafrenamedfolder/algal leaf/algal leaf26.jpg', '/content/drive/MyDrive/tealeafrenamedfolder/algal leaf/algal leaf27.jpg', '/content/drive/MyDrive/tealeafrenamedfolder/algal leaf/algal leaf28.jpg', '/content/drive/MyDrive/tealeafrenamedfolder/algal leaf/algal leaf29.jpg', '/content/drive/MyDrive/tealeafrenamedfolder/algal leaf/algal leaf30.jpg', '/content/drive/MyDrive/tealeafrenamedfolder/algal leaf/algal leaf31.jpg', '/content/drive/MyDrive/tealeafrenamedfolder/algal leaf/algal leaf32.jpg', '/content/drive/MyDrive/tealeafrenamedfolder/algal leaf/algal leaf33.jpg', '/content/drive/MyDrive/tealeafrenamedfolder/algal leaf/algal leaf34.jpg', '/content/drive/MyDrive/tealeafrenamedfolder/algal leaf/algal leaf35.jpg', '/content/drive/MyDrive/tealeafrenamedfolder/algal leaf/algal leaf36.jpg', '/content/drive/MyDrive/tealeafrenamedfolder/algal leaf/algal leaf37.jpg', '/content/drive/MyDrive/tealeafrenamedfolder/algal leaf/algal leaf38.jpg', '/content/drive/MyDrive/tealeafrenamedfolder/algal leaf/algal leaf39.jpg', '/content/drive/MyDrive/tealeafrenamedfolder/algal leaf/algal leaf40.jpg', '/content/drive/MyDrive/tealeafrenamedfolder/algal leaf/algal leaf41.jpg', '/content/drive/MyDrive/tealeafrenamedfolder/algal leaf/algal leaf42.jpg', '/content/drive/MyDrive/tealeafrenamedfolder/algal leaf/algal leaf43.jpg', '/content/drive/MyDrive/tealeafrenamedfolder/algal leaf/algal leaf44.jpg', '/content/drive/MyDrive/tealeafrenamedfolder/algal leaf/algal leaf45.jpg', '/content/drive/MyDrive/tealeafrenamedfolder/algal leaf/algal leaf46.jpg', '/content/drive/MyDrive/tealeafrenamedfolder/algal leaf/algal leaf47.jpg', '/content/drive/MyDrive/tealeafrenamedfolder/algal leaf/algal leaf48.jpg', '/content/drive/MyDrive/tealeafrenamedfolder/algal leaf/algal leaf49.jpg', '/content/drive/MyDrive/tealeafrenamedfolder/algal leaf/algal leaf50.jpg', '/content/drive/MyDrive/tealeafrenamedfolder/algal leaf/algal leaf51.jpg', '/content/drive/MyDrive/tealeafrenamedfolder/algal leaf/algal leaf52.jpg', '/content/drive/MyDrive/tealeafrenamedfolder/algal leaf/algal leaf53.jpg', '/content/drive/MyDrive/tealeafrenamedfolder/algal leaf/algal leaf54.jpg', '/content/drive/MyDrive/tealeafrenamedfolder/algal leaf/algal leaf55.jpg', '/content/drive/MyDrive/tealeafrenamedfolder/algal leaf/algal leaf56.jpg', '/content/drive/MyDrive/tealeafrenamedfolder/algal leaf/algal leaf57.jpg', '/content/drive/MyDrive/tealeafrenamedfolder/algal leaf/algal leaf58.jpg', '/content/drive/MyDrive/tealeafrenamedfolder/algal leaf/algal leaf59.jpg', '/content/drive/MyDrive/tealeafrenamedfolder/algal leaf/algal leaf60.jpg', '/content/drive/MyDrive/tealeafrenamedfolder/algal leaf/algal leaf61.jpg', '/content/drive/MyDrive/tealeafrenamedfolder/algal leaf/algal leaf62.jpg', '/content/drive/MyDrive/tealeafrenamedfolder/algal leaf/algal leaf63.jpg', '/content/drive/MyDrive/tealeafrenamedfolder/algal leaf/algal leaf64.jpg', '/content/drive/MyDrive/tealeafrenamedfolder/algal leaf/algal leaf65.jpg', '/content/drive/MyDrive/tealeafrenamedfolder/algal leaf/algal leaf66.jpg', '/content/drive/MyDrive/tealeafrenamedfolder/algal leaf/algal leaf67.jpg', '/content/drive/MyDrive/tealeafrenamedfolder/algal leaf/algal leaf68.jpg', '/content/drive/MyDrive/tealeafrenamedfolder/algal leaf/algal leaf69.jpg', '/content/drive/MyDrive/tealeafrenamedfolder/algal leaf/algal leaf70.jpg', '/content/drive/MyDrive/tealeafrenamedfolder/algal leaf/algal leaf71.jpg', '/content/drive/MyDrive/tealeafrenamedfolder/algal leaf/algal leaf72.jpg', '/content/drive/MyDrive/tealeafrenamedfolder/algal leaf/algal leaf73.jpg', '/content/drive/MyDrive/tealeafrenamedfolder/algal leaf/algal leaf74.jpg', '/content/drive/MyDrive/tealeafrenamedfolder/algal leaf/algal leaf75.jpg', '/content/drive/MyDrive/tealeafrenamedfolder/algal leaf/algal leaf76.jpg', '/content/drive/MyDrive/tealeafrenamedfolder/algal leaf/algal leaf77.jpg', '/content/drive/MyDrive/tealeafrenamedfolder/algal leaf/algal leaf78.jpg', '/content/drive/MyDrive/tealeafrenamedfolder/algal leaf/algal leaf79.jpg', '/content/drive/MyDrive/tealeafrenamedfolder/algal leaf/algal leaf80.jpg', '/content/drive/MyDrive/tealeafrenamedfolder/algal leaf/algal leaf81.jpg', '/content/drive/MyDrive/tealeafrenamedfolder/algal leaf/algal leaf82.jpg', '/content/drive/MyDrive/tealeafrenamedfolder/algal leaf/algal leaf83.jpg', '/content/drive/MyDrive/tealeafrenamedfolder/algal leaf/algal leaf84.jpg', '/content/drive/MyDrive/tealeafrenamedfolder/algal leaf/algal leaf85.jpg', '/content/drive/MyDrive/tealeafrenamedfolder/algal leaf/algal leaf86.jpg', '/content/drive/MyDrive/tealeafrenamedfolder/algal leaf/algal leaf87.jpg', '/content/drive/MyDrive/tealeafrenamedfolder/algal leaf/algal leaf88.jpg', '/content/drive/MyDrive/tealeafrenamedfolder/algal leaf/algal leaf89.jpg', '/content/drive/MyDrive/tealeafrenamedfolder/algal leaf/algal leaf90.jpg', '/content/drive/MyDrive/tealeafrenamedfolder/algal leaf/algal leaf91.jpg', '/content/drive/MyDrive/tealeafrenamedfolder/algal leaf/algal leaf92.jpg', '/content/drive/MyDrive/tealeafrenamedfolder/algal leaf/algal leaf93.jpg', '/content/drive/MyDrive/tealeafrenamedfolder/algal leaf/algal leaf94.jpg', '/content/drive/MyDrive/tealeafrenamedfolder/algal leaf/algal leaf95.jpg', '/content/drive/MyDrive/tealeafrenamedfolder/algal leaf/algal leaf96.jpg', '/content/drive/MyDrive/tealeafrenamedfolder/algal leaf/algal leaf97.jpg', '/content/drive/MyDrive/tealeafrenamedfolder/algal leaf/algal leaf98.jpg', '/content/drive/MyDrive/tealeafrenamedfolder/algal leaf/algal leaf99.jpg', '/content/drive/MyDrive/tealeafrenamedfolder/algal leaf/algal leaf100.jpg', '/content/drive/MyDrive/tealeafrenamedfolder/algal leaf/algal leaf101.jpg', '/content/drive/MyDrive/tealeafrenamedfolder/algal leaf/algal leaf102.jpg', '/content/drive/MyDrive/tealeafrenamedfolder/algal leaf/algal leaf103.jpg', '/content/drive/MyDrive/tealeafrenamedfolder/algal leaf/algal leaf104.jpg', '/content/drive/MyDrive/tealeafrenamedfolder/algal leaf/algal leaf105.jpg', '/content/drive/MyDrive/tealeafrenamedfolder/algal leaf/algal leaf106.jpg', '/content/drive/MyDrive/tealeafrenamedfolder/algal leaf/algal leaf107.jpg', '/content/drive/MyDrive/tealeafrenamedfolder/algal leaf/algal leaf108.jpg', '/content/drive/MyDrive/tealeafrenamedfolder/algal leaf/algal leaf109.jpg', '/content/drive/MyDrive/tealeafrenamedfolder/algal leaf/algal leaf110.jpg', '/content/drive/MyDrive/tealeafrenamedfolder/algal leaf/algal leaf111.jpg', '/content/drive/MyDrive/tealeafrenamedfolder/algal leaf/algal leaf112.jpg', '/content/drive/MyDrive/tealeafrenamedfolder/algal leaf/algal leaf113.jpg']}\n"
          ]
        }
      ]
    },
    {
      "cell_type": "code",
      "source": [
        "# Create a dictionary that maps each disease name to a unique integer\n",
        "class_dict = {}\n",
        "count = 0\n",
        "for disease_name in disease_file_names_dict.keys():\n",
        "    class_dict[disease_name] = count\n",
        "    count += 1\n",
        "\n",
        "print(class_dict)"
      ],
      "metadata": {
        "colab": {
          "base_uri": "https://localhost:8080/"
        },
        "id": "-TCzAcpctad5",
        "outputId": "262ae176-7d4a-46fd-e2bd-d0cd5be8d47d"
      },
      "execution_count": 7,
      "outputs": [
        {
          "output_type": "stream",
          "name": "stdout",
          "text": [
            "{'white spot': 0, 'red leaf spot': 1, 'healthy': 2, 'gray light': 3, 'brown blight': 4, 'bird eye spot': 5, 'Anthracnose': 6, 'algal leaf': 7}\n"
          ]
        }
      ]
    },
    {
      "cell_type": "code",
      "source": [
        "import cv2\n",
        "import pywt"
      ],
      "metadata": {
        "id": "kQ6xfbV1t-Gi"
      },
      "execution_count": 8,
      "outputs": []
    },
    {
      "cell_type": "code",
      "source": [
        "def w2d(img, mode='haar', level=1):\n",
        "    imArray = cv2.cvtColor(img, cv2.COLOR_RGB2GRAY)\n",
        "    imArray = np.float32(imArray)\n",
        "    imArray /= 255\n",
        "    coeffs = pywt.wavedec2(imArray, mode, level=level)\n",
        "    coeffs_H = list(coeffs)\n",
        "    coeffs_H[0] *= 0\n",
        "    imArray_H = pywt.waverec2(coeffs_H, mode)\n",
        "    imArray_H *= 255\n",
        "    imArray_H = np.uint8(imArray_H)\n",
        "    return imArray_H"
      ],
      "metadata": {
        "id": "I3RMWtGftfoG"
      },
      "execution_count": 9,
      "outputs": []
    },
    {
      "cell_type": "code",
      "source": [
        "# Step 4: Process images to create feature and label datasets\n",
        "X, y = [], []\n",
        "for disease_name, training_files in disease_file_names_dict.items():\n",
        "    for training_image in training_files:\n",
        "        img = cv2.imread(training_image)\n",
        "        if img is not None:\n",
        "            scalled_raw_img = cv2.resize(img, (32, 32))\n",
        "            img_har = w2d(img, 'db1', 5)\n",
        "            scalled_img_har = cv2.resize(img_har, (32, 32))\n",
        "            combined_img = np.vstack((scalled_raw_img.reshape(32*32*3, 1), scalled_img_har.reshape(32*32, 1)))\n",
        "            X.append(combined_img)\n",
        "            y.append(class_dict[disease_name])\n",
        "\n",
        "X = np.array(X).reshape(len(X), 32*32*4)\n",
        "y = np.array(y)\n",
        "\n",
        "print(X.shape)\n",
        "print(y.shape)"
      ],
      "metadata": {
        "id": "-VIMTBsFt-5u",
        "colab": {
          "base_uri": "https://localhost:8080/"
        },
        "outputId": "38c05d6c-2a73-4477-ef63-b6142ad681cf"
      },
      "execution_count": 10,
      "outputs": [
        {
          "output_type": "stream",
          "name": "stdout",
          "text": [
            "(883, 4096)\n",
            "(883,)\n"
          ]
        }
      ]
    },
    {
      "cell_type": "code",
      "source": [
        "len(X[0])"
      ],
      "metadata": {
        "id": "_i9xG1_9udiz",
        "colab": {
          "base_uri": "https://localhost:8080/"
        },
        "outputId": "a879e9a0-6aa7-48a0-b2dc-779f92fdb473"
      },
      "execution_count": 11,
      "outputs": [
        {
          "output_type": "execute_result",
          "data": {
            "text/plain": [
              "4096"
            ]
          },
          "metadata": {},
          "execution_count": 11
        }
      ]
    },
    {
      "cell_type": "code",
      "source": [
        "X[0]"
      ],
      "metadata": {
        "id": "ZkUC7PZ9uhU6",
        "colab": {
          "base_uri": "https://localhost:8080/"
        },
        "outputId": "5fe1c68c-e02c-4a43-d1ac-24b790e659ea"
      },
      "execution_count": 12,
      "outputs": [
        {
          "output_type": "execute_result",
          "data": {
            "text/plain": [
              "array([252, 251, 254, ...,   0,   1, 128], dtype=uint8)"
            ]
          },
          "metadata": {},
          "execution_count": 12
        }
      ]
    },
    {
      "cell_type": "code",
      "source": [
        "y[0]"
      ],
      "metadata": {
        "id": "jrMsimKLulNv",
        "colab": {
          "base_uri": "https://localhost:8080/"
        },
        "outputId": "1a7b9aab-5050-4aef-da87-be439b3fc269"
      },
      "execution_count": 13,
      "outputs": [
        {
          "output_type": "execute_result",
          "data": {
            "text/plain": [
              "0"
            ]
          },
          "metadata": {},
          "execution_count": 13
        }
      ]
    },
    {
      "cell_type": "code",
      "source": [
        "X = np.array(X).reshape(len(X),4096).astype(float)\n",
        "X.shape"
      ],
      "metadata": {
        "id": "s8m8WfmFupmi",
        "colab": {
          "base_uri": "https://localhost:8080/"
        },
        "outputId": "2a599e83-c4e2-44ce-ec48-03a57ca5a3ac"
      },
      "execution_count": 14,
      "outputs": [
        {
          "output_type": "execute_result",
          "data": {
            "text/plain": [
              "(883, 4096)"
            ]
          },
          "metadata": {},
          "execution_count": 14
        }
      ]
    },
    {
      "cell_type": "code",
      "source": [
        "from sklearn.svm import SVC\n",
        "from sklearn.preprocessing import StandardScaler\n",
        "from sklearn.model_selection import train_test_split\n",
        "from sklearn.pipeline import Pipeline\n",
        "from sklearn.metrics import classification_report"
      ],
      "metadata": {
        "id": "vm9GjjkzutEX"
      },
      "execution_count": 15,
      "outputs": []
    },
    {
      "cell_type": "code",
      "source": [
        "X_train, X_test, y_train, y_test = train_test_split(X, y, random_state=0)\n",
        "\n",
        "pipe = Pipeline([('scaler', StandardScaler()), ('svc', SVC(kernel = 'rbf', C = 10))])\n",
        "pipe.fit(X_train, y_train)\n",
        "pipe.score(X_test, y_test)"
      ],
      "metadata": {
        "id": "LioXvP4fu0La",
        "colab": {
          "base_uri": "https://localhost:8080/"
        },
        "outputId": "c2b4fbd6-d9cc-4dbd-c10c-e4ae5686f19b"
      },
      "execution_count": 16,
      "outputs": [
        {
          "output_type": "execute_result",
          "data": {
            "text/plain": [
              "0.8009049773755657"
            ]
          },
          "metadata": {},
          "execution_count": 16
        }
      ]
    },
    {
      "cell_type": "code",
      "source": [
        "print(classification_report(y_test, pipe.predict(X_test)))"
      ],
      "metadata": {
        "id": "hWMfSOzEu4hu",
        "colab": {
          "base_uri": "https://localhost:8080/"
        },
        "outputId": "2ab9d88b-ba0b-4b6f-a69d-a86cfad754a9"
      },
      "execution_count": 17,
      "outputs": [
        {
          "output_type": "stream",
          "name": "stdout",
          "text": [
            "              precision    recall  f1-score   support\n",
            "\n",
            "           0       0.79      0.84      0.81        31\n",
            "           1       1.00      1.00      1.00        41\n",
            "           2       1.00      1.00      1.00        20\n",
            "           3       0.61      0.70      0.65        20\n",
            "           4       0.73      0.76      0.75        25\n",
            "           5       1.00      0.48      0.65        29\n",
            "           6       0.51      0.79      0.62        24\n",
            "           7       0.89      0.77      0.83        31\n",
            "\n",
            "    accuracy                           0.80       221\n",
            "   macro avg       0.82      0.79      0.79       221\n",
            "weighted avg       0.84      0.80      0.80       221\n",
            "\n"
          ]
        }
      ]
    },
    {
      "cell_type": "code",
      "source": [
        "from sklearn.model_selection import train_test_split\n",
        "from sklearn.neighbors import KNeighborsClassifier\n",
        "\n",
        "k = 15 # Change this value to the desired number of neighbors\n",
        "\n",
        "# Create a pipeline with a scaler and KNN classifier with the specified value of k\n",
        "pipe = Pipeline([('scaler', StandardScaler()), ('knn', KNeighborsClassifier(n_neighbors=k))])\n",
        "\n",
        "# Fit the pipeline to the training data\n",
        "pipe.fit(X_train, y_train)\n",
        "# Evaluate the pipeline on the testing data\n",
        "accuracy = pipe.score(X_test, y_test)\n",
        "print(\"Accuracy:\", accuracy)"
      ],
      "metadata": {
        "id": "vGlA9NPO6piV",
        "colab": {
          "base_uri": "https://localhost:8080/"
        },
        "outputId": "e171235a-b2f2-4463-eed7-6fb7699a3e1f"
      },
      "execution_count": 18,
      "outputs": [
        {
          "output_type": "stream",
          "name": "stdout",
          "text": [
            "Accuracy: 0.5610859728506787\n"
          ]
        }
      ]
    },
    {
      "cell_type": "code",
      "source": [
        "from sklearn import svm\n",
        "from sklearn.ensemble import RandomForestClassifier\n",
        "from sklearn.linear_model import LogisticRegression\n",
        "from sklearn.neighbors import KNeighborsClassifier\n",
        "from sklearn.pipeline import make_pipeline\n",
        "from sklearn.model_selection import GridSearchCV\n"
      ],
      "metadata": {
        "id": "zxd7Sv3MvE4V"
      },
      "execution_count": 19,
      "outputs": []
    },
    {
      "cell_type": "code",
      "source": [
        "model_params = {\n",
        "    'svm': {\n",
        "        'model': svm.SVC(gamma='auto',probability=True),\n",
        "        'params' : {\n",
        "            'svc__C': [1,10,100,1000],\n",
        "            'svc__kernel': ['rbf','linear']\n",
        "        }\n",
        "    },\n",
        "    'random_forest': {\n",
        "        'model': RandomForestClassifier(),\n",
        "        'params' : {\n",
        "            'randomforestclassifier__n_estimators': [1,5,10]\n",
        "        }\n",
        "    },\n",
        "    'logistic_regression' : {\n",
        "        'model': LogisticRegression(solver='liblinear',multi_class='auto'),\n",
        "        'params': {\n",
        "            'logisticregression__C': [1,5,10]\n",
        "        }\n",
        "    },\n",
        "    'knn': {\n",
        "        'model': KNeighborsClassifier(),\n",
        "        'params': {\n",
        "            'kneighborsclassifier__n_neighbors': [5, 10, 15]\n",
        "        }\n",
        "    }\n",
        "}\n"
      ],
      "metadata": {
        "id": "FCSa9H0avG8y"
      },
      "execution_count": 20,
      "outputs": []
    },
    {
      "cell_type": "code",
      "source": [
        "scores = []\n",
        "best_estimators = {}\n",
        "import pandas as pd\n",
        "for algo, mp in model_params.items():\n",
        "    pipe = make_pipeline(StandardScaler(), mp['model'])\n",
        "    clf =  GridSearchCV(pipe, mp['params'], cv=5, return_train_score=False)\n",
        "    clf.fit(X_train, y_train)\n",
        "    scores.append({\n",
        "        'model': algo,\n",
        "        'best_score': clf.best_score_,\n",
        "        'best_params': clf.best_params_\n",
        "    })\n",
        "    best_estimators[algo] = clf.best_estimator_\n",
        "\n",
        "df = pd.DataFrame(scores,columns=['model','best_score','best_params'])\n",
        "df"
      ],
      "metadata": {
        "id": "VJf0uAVKvG1b",
        "colab": {
          "base_uri": "https://localhost:8080/",
          "height": 175
        },
        "outputId": "e049ec6d-a1f4-402f-ed49-dc984e6bce7b"
      },
      "execution_count": 21,
      "outputs": [
        {
          "output_type": "execute_result",
          "data": {
            "text/plain": [
              "                 model  best_score  \\\n",
              "0                  svm    0.806607   \n",
              "1        random_forest    0.696298   \n",
              "2  logistic_regression    0.743153   \n",
              "3                  knn    0.584564   \n",
              "\n",
              "                                    best_params  \n",
              "0          {'svc__C': 10, 'svc__kernel': 'rbf'}  \n",
              "1  {'randomforestclassifier__n_estimators': 10}  \n",
              "2                  {'logisticregression__C': 1}  \n",
              "3      {'kneighborsclassifier__n_neighbors': 5}  "
            ],
            "text/html": [
              "\n",
              "  <div id=\"df-97e230a5-061d-4d95-ae70-d410d0b906d0\" class=\"colab-df-container\">\n",
              "    <div>\n",
              "<style scoped>\n",
              "    .dataframe tbody tr th:only-of-type {\n",
              "        vertical-align: middle;\n",
              "    }\n",
              "\n",
              "    .dataframe tbody tr th {\n",
              "        vertical-align: top;\n",
              "    }\n",
              "\n",
              "    .dataframe thead th {\n",
              "        text-align: right;\n",
              "    }\n",
              "</style>\n",
              "<table border=\"1\" class=\"dataframe\">\n",
              "  <thead>\n",
              "    <tr style=\"text-align: right;\">\n",
              "      <th></th>\n",
              "      <th>model</th>\n",
              "      <th>best_score</th>\n",
              "      <th>best_params</th>\n",
              "    </tr>\n",
              "  </thead>\n",
              "  <tbody>\n",
              "    <tr>\n",
              "      <th>0</th>\n",
              "      <td>svm</td>\n",
              "      <td>0.806607</td>\n",
              "      <td>{'svc__C': 10, 'svc__kernel': 'rbf'}</td>\n",
              "    </tr>\n",
              "    <tr>\n",
              "      <th>1</th>\n",
              "      <td>random_forest</td>\n",
              "      <td>0.696298</td>\n",
              "      <td>{'randomforestclassifier__n_estimators': 10}</td>\n",
              "    </tr>\n",
              "    <tr>\n",
              "      <th>2</th>\n",
              "      <td>logistic_regression</td>\n",
              "      <td>0.743153</td>\n",
              "      <td>{'logisticregression__C': 1}</td>\n",
              "    </tr>\n",
              "    <tr>\n",
              "      <th>3</th>\n",
              "      <td>knn</td>\n",
              "      <td>0.584564</td>\n",
              "      <td>{'kneighborsclassifier__n_neighbors': 5}</td>\n",
              "    </tr>\n",
              "  </tbody>\n",
              "</table>\n",
              "</div>\n",
              "    <div class=\"colab-df-buttons\">\n",
              "\n",
              "  <div class=\"colab-df-container\">\n",
              "    <button class=\"colab-df-convert\" onclick=\"convertToInteractive('df-97e230a5-061d-4d95-ae70-d410d0b906d0')\"\n",
              "            title=\"Convert this dataframe to an interactive table.\"\n",
              "            style=\"display:none;\">\n",
              "\n",
              "  <svg xmlns=\"http://www.w3.org/2000/svg\" height=\"24px\" viewBox=\"0 -960 960 960\">\n",
              "    <path d=\"M120-120v-720h720v720H120Zm60-500h600v-160H180v160Zm220 220h160v-160H400v160Zm0 220h160v-160H400v160ZM180-400h160v-160H180v160Zm440 0h160v-160H620v160ZM180-180h160v-160H180v160Zm440 0h160v-160H620v160Z\"/>\n",
              "  </svg>\n",
              "    </button>\n",
              "\n",
              "  <style>\n",
              "    .colab-df-container {\n",
              "      display:flex;\n",
              "      gap: 12px;\n",
              "    }\n",
              "\n",
              "    .colab-df-convert {\n",
              "      background-color: #E8F0FE;\n",
              "      border: none;\n",
              "      border-radius: 50%;\n",
              "      cursor: pointer;\n",
              "      display: none;\n",
              "      fill: #1967D2;\n",
              "      height: 32px;\n",
              "      padding: 0 0 0 0;\n",
              "      width: 32px;\n",
              "    }\n",
              "\n",
              "    .colab-df-convert:hover {\n",
              "      background-color: #E2EBFA;\n",
              "      box-shadow: 0px 1px 2px rgba(60, 64, 67, 0.3), 0px 1px 3px 1px rgba(60, 64, 67, 0.15);\n",
              "      fill: #174EA6;\n",
              "    }\n",
              "\n",
              "    .colab-df-buttons div {\n",
              "      margin-bottom: 4px;\n",
              "    }\n",
              "\n",
              "    [theme=dark] .colab-df-convert {\n",
              "      background-color: #3B4455;\n",
              "      fill: #D2E3FC;\n",
              "    }\n",
              "\n",
              "    [theme=dark] .colab-df-convert:hover {\n",
              "      background-color: #434B5C;\n",
              "      box-shadow: 0px 1px 3px 1px rgba(0, 0, 0, 0.15);\n",
              "      filter: drop-shadow(0px 1px 2px rgba(0, 0, 0, 0.3));\n",
              "      fill: #FFFFFF;\n",
              "    }\n",
              "  </style>\n",
              "\n",
              "    <script>\n",
              "      const buttonEl =\n",
              "        document.querySelector('#df-97e230a5-061d-4d95-ae70-d410d0b906d0 button.colab-df-convert');\n",
              "      buttonEl.style.display =\n",
              "        google.colab.kernel.accessAllowed ? 'block' : 'none';\n",
              "\n",
              "      async function convertToInteractive(key) {\n",
              "        const element = document.querySelector('#df-97e230a5-061d-4d95-ae70-d410d0b906d0');\n",
              "        const dataTable =\n",
              "          await google.colab.kernel.invokeFunction('convertToInteractive',\n",
              "                                                    [key], {});\n",
              "        if (!dataTable) return;\n",
              "\n",
              "        const docLinkHtml = 'Like what you see? Visit the ' +\n",
              "          '<a target=\"_blank\" href=https://colab.research.google.com/notebooks/data_table.ipynb>data table notebook</a>'\n",
              "          + ' to learn more about interactive tables.';\n",
              "        element.innerHTML = '';\n",
              "        dataTable['output_type'] = 'display_data';\n",
              "        await google.colab.output.renderOutput(dataTable, element);\n",
              "        const docLink = document.createElement('div');\n",
              "        docLink.innerHTML = docLinkHtml;\n",
              "        element.appendChild(docLink);\n",
              "      }\n",
              "    </script>\n",
              "  </div>\n",
              "\n",
              "\n",
              "<div id=\"df-f92482b8-6815-4997-a34c-247eda9acad3\">\n",
              "  <button class=\"colab-df-quickchart\" onclick=\"quickchart('df-f92482b8-6815-4997-a34c-247eda9acad3')\"\n",
              "            title=\"Suggest charts\"\n",
              "            style=\"display:none;\">\n",
              "\n",
              "<svg xmlns=\"http://www.w3.org/2000/svg\" height=\"24px\"viewBox=\"0 0 24 24\"\n",
              "     width=\"24px\">\n",
              "    <g>\n",
              "        <path d=\"M19 3H5c-1.1 0-2 .9-2 2v14c0 1.1.9 2 2 2h14c1.1 0 2-.9 2-2V5c0-1.1-.9-2-2-2zM9 17H7v-7h2v7zm4 0h-2V7h2v10zm4 0h-2v-4h2v4z\"/>\n",
              "    </g>\n",
              "</svg>\n",
              "  </button>\n",
              "\n",
              "<style>\n",
              "  .colab-df-quickchart {\n",
              "      --bg-color: #E8F0FE;\n",
              "      --fill-color: #1967D2;\n",
              "      --hover-bg-color: #E2EBFA;\n",
              "      --hover-fill-color: #174EA6;\n",
              "      --disabled-fill-color: #AAA;\n",
              "      --disabled-bg-color: #DDD;\n",
              "  }\n",
              "\n",
              "  [theme=dark] .colab-df-quickchart {\n",
              "      --bg-color: #3B4455;\n",
              "      --fill-color: #D2E3FC;\n",
              "      --hover-bg-color: #434B5C;\n",
              "      --hover-fill-color: #FFFFFF;\n",
              "      --disabled-bg-color: #3B4455;\n",
              "      --disabled-fill-color: #666;\n",
              "  }\n",
              "\n",
              "  .colab-df-quickchart {\n",
              "    background-color: var(--bg-color);\n",
              "    border: none;\n",
              "    border-radius: 50%;\n",
              "    cursor: pointer;\n",
              "    display: none;\n",
              "    fill: var(--fill-color);\n",
              "    height: 32px;\n",
              "    padding: 0;\n",
              "    width: 32px;\n",
              "  }\n",
              "\n",
              "  .colab-df-quickchart:hover {\n",
              "    background-color: var(--hover-bg-color);\n",
              "    box-shadow: 0 1px 2px rgba(60, 64, 67, 0.3), 0 1px 3px 1px rgba(60, 64, 67, 0.15);\n",
              "    fill: var(--button-hover-fill-color);\n",
              "  }\n",
              "\n",
              "  .colab-df-quickchart-complete:disabled,\n",
              "  .colab-df-quickchart-complete:disabled:hover {\n",
              "    background-color: var(--disabled-bg-color);\n",
              "    fill: var(--disabled-fill-color);\n",
              "    box-shadow: none;\n",
              "  }\n",
              "\n",
              "  .colab-df-spinner {\n",
              "    border: 2px solid var(--fill-color);\n",
              "    border-color: transparent;\n",
              "    border-bottom-color: var(--fill-color);\n",
              "    animation:\n",
              "      spin 1s steps(1) infinite;\n",
              "  }\n",
              "\n",
              "  @keyframes spin {\n",
              "    0% {\n",
              "      border-color: transparent;\n",
              "      border-bottom-color: var(--fill-color);\n",
              "      border-left-color: var(--fill-color);\n",
              "    }\n",
              "    20% {\n",
              "      border-color: transparent;\n",
              "      border-left-color: var(--fill-color);\n",
              "      border-top-color: var(--fill-color);\n",
              "    }\n",
              "    30% {\n",
              "      border-color: transparent;\n",
              "      border-left-color: var(--fill-color);\n",
              "      border-top-color: var(--fill-color);\n",
              "      border-right-color: var(--fill-color);\n",
              "    }\n",
              "    40% {\n",
              "      border-color: transparent;\n",
              "      border-right-color: var(--fill-color);\n",
              "      border-top-color: var(--fill-color);\n",
              "    }\n",
              "    60% {\n",
              "      border-color: transparent;\n",
              "      border-right-color: var(--fill-color);\n",
              "    }\n",
              "    80% {\n",
              "      border-color: transparent;\n",
              "      border-right-color: var(--fill-color);\n",
              "      border-bottom-color: var(--fill-color);\n",
              "    }\n",
              "    90% {\n",
              "      border-color: transparent;\n",
              "      border-bottom-color: var(--fill-color);\n",
              "    }\n",
              "  }\n",
              "</style>\n",
              "\n",
              "  <script>\n",
              "    async function quickchart(key) {\n",
              "      const quickchartButtonEl =\n",
              "        document.querySelector('#' + key + ' button');\n",
              "      quickchartButtonEl.disabled = true;  // To prevent multiple clicks.\n",
              "      quickchartButtonEl.classList.add('colab-df-spinner');\n",
              "      try {\n",
              "        const charts = await google.colab.kernel.invokeFunction(\n",
              "            'suggestCharts', [key], {});\n",
              "      } catch (error) {\n",
              "        console.error('Error during call to suggestCharts:', error);\n",
              "      }\n",
              "      quickchartButtonEl.classList.remove('colab-df-spinner');\n",
              "      quickchartButtonEl.classList.add('colab-df-quickchart-complete');\n",
              "    }\n",
              "    (() => {\n",
              "      let quickchartButtonEl =\n",
              "        document.querySelector('#df-f92482b8-6815-4997-a34c-247eda9acad3 button');\n",
              "      quickchartButtonEl.style.display =\n",
              "        google.colab.kernel.accessAllowed ? 'block' : 'none';\n",
              "    })();\n",
              "  </script>\n",
              "</div>\n",
              "\n",
              "  <div id=\"id_e8ea4e70-58a0-444e-8bda-d85799fa179e\">\n",
              "    <style>\n",
              "      .colab-df-generate {\n",
              "        background-color: #E8F0FE;\n",
              "        border: none;\n",
              "        border-radius: 50%;\n",
              "        cursor: pointer;\n",
              "        display: none;\n",
              "        fill: #1967D2;\n",
              "        height: 32px;\n",
              "        padding: 0 0 0 0;\n",
              "        width: 32px;\n",
              "      }\n",
              "\n",
              "      .colab-df-generate:hover {\n",
              "        background-color: #E2EBFA;\n",
              "        box-shadow: 0px 1px 2px rgba(60, 64, 67, 0.3), 0px 1px 3px 1px rgba(60, 64, 67, 0.15);\n",
              "        fill: #174EA6;\n",
              "      }\n",
              "\n",
              "      [theme=dark] .colab-df-generate {\n",
              "        background-color: #3B4455;\n",
              "        fill: #D2E3FC;\n",
              "      }\n",
              "\n",
              "      [theme=dark] .colab-df-generate:hover {\n",
              "        background-color: #434B5C;\n",
              "        box-shadow: 0px 1px 3px 1px rgba(0, 0, 0, 0.15);\n",
              "        filter: drop-shadow(0px 1px 2px rgba(0, 0, 0, 0.3));\n",
              "        fill: #FFFFFF;\n",
              "      }\n",
              "    </style>\n",
              "    <button class=\"colab-df-generate\" onclick=\"generateWithVariable('df')\"\n",
              "            title=\"Generate code using this dataframe.\"\n",
              "            style=\"display:none;\">\n",
              "\n",
              "  <svg xmlns=\"http://www.w3.org/2000/svg\" height=\"24px\"viewBox=\"0 0 24 24\"\n",
              "       width=\"24px\">\n",
              "    <path d=\"M7,19H8.4L18.45,9,17,7.55,7,17.6ZM5,21V16.75L18.45,3.32a2,2,0,0,1,2.83,0l1.4,1.43a1.91,1.91,0,0,1,.58,1.4,1.91,1.91,0,0,1-.58,1.4L9.25,21ZM18.45,9,17,7.55Zm-12,3A5.31,5.31,0,0,0,4.9,8.1,5.31,5.31,0,0,0,1,6.5,5.31,5.31,0,0,0,4.9,4.9,5.31,5.31,0,0,0,6.5,1,5.31,5.31,0,0,0,8.1,4.9,5.31,5.31,0,0,0,12,6.5,5.46,5.46,0,0,0,6.5,12Z\"/>\n",
              "  </svg>\n",
              "    </button>\n",
              "    <script>\n",
              "      (() => {\n",
              "      const buttonEl =\n",
              "        document.querySelector('#id_e8ea4e70-58a0-444e-8bda-d85799fa179e button.colab-df-generate');\n",
              "      buttonEl.style.display =\n",
              "        google.colab.kernel.accessAllowed ? 'block' : 'none';\n",
              "\n",
              "      buttonEl.onclick = () => {\n",
              "        google.colab.notebook.generateWithVariable('df');\n",
              "      }\n",
              "      })();\n",
              "    </script>\n",
              "  </div>\n",
              "\n",
              "    </div>\n",
              "  </div>\n"
            ],
            "application/vnd.google.colaboratory.intrinsic+json": {
              "type": "dataframe",
              "variable_name": "df",
              "summary": "{\n  \"name\": \"df\",\n  \"rows\": 4,\n  \"fields\": [\n    {\n      \"column\": \"model\",\n      \"properties\": {\n        \"dtype\": \"string\",\n        \"num_unique_values\": 4,\n        \"samples\": [\n          \"random_forest\",\n          \"knn\",\n          \"svm\"\n        ],\n        \"semantic_type\": \"\",\n        \"description\": \"\"\n      }\n    },\n    {\n      \"column\": \"best_score\",\n      \"properties\": {\n        \"dtype\": \"number\",\n        \"std\": 0.0936877418367598,\n        \"min\": 0.5845636819321031,\n        \"max\": 0.8066074276600592,\n        \"num_unique_values\": 4,\n        \"samples\": [\n          0.6962975620870357,\n          0.5845636819321031,\n          0.8066074276600592\n        ],\n        \"semantic_type\": \"\",\n        \"description\": \"\"\n      }\n    },\n    {\n      \"column\": \"best_params\",\n      \"properties\": {\n        \"dtype\": \"object\",\n        \"semantic_type\": \"\",\n        \"description\": \"\"\n      }\n    }\n  ]\n}"
            }
          },
          "metadata": {},
          "execution_count": 21
        }
      ]
    },
    {
      "cell_type": "code",
      "source": [
        "best_estimators"
      ],
      "metadata": {
        "colab": {
          "base_uri": "https://localhost:8080/"
        },
        "id": "v1C1L-QBRtku",
        "outputId": "cb5ec325-2b02-4407-a3ca-4c31b6a9ed19"
      },
      "execution_count": 22,
      "outputs": [
        {
          "output_type": "execute_result",
          "data": {
            "text/plain": [
              "{'svm': Pipeline(steps=[('standardscaler', StandardScaler()),\n",
              "                 ('svc', SVC(C=10, gamma='auto', probability=True))]),\n",
              " 'random_forest': Pipeline(steps=[('standardscaler', StandardScaler()),\n",
              "                 ('randomforestclassifier',\n",
              "                  RandomForestClassifier(n_estimators=10))]),\n",
              " 'logistic_regression': Pipeline(steps=[('standardscaler', StandardScaler()),\n",
              "                 ('logisticregression',\n",
              "                  LogisticRegression(C=1, solver='liblinear'))]),\n",
              " 'knn': Pipeline(steps=[('standardscaler', StandardScaler()),\n",
              "                 ('kneighborsclassifier', KNeighborsClassifier())])}"
            ]
          },
          "metadata": {},
          "execution_count": 22
        }
      ]
    },
    {
      "cell_type": "code",
      "source": [
        "\n",
        "best_estimators['random_forest'].score(X_test,y_test)"
      ],
      "metadata": {
        "colab": {
          "base_uri": "https://localhost:8080/"
        },
        "id": "7G1RVkEVRxD-",
        "outputId": "eb032de2-5545-4b91-b27d-4998ed112606"
      },
      "execution_count": 23,
      "outputs": [
        {
          "output_type": "execute_result",
          "data": {
            "text/plain": [
              "0.6968325791855203"
            ]
          },
          "metadata": {},
          "execution_count": 23
        }
      ]
    },
    {
      "cell_type": "code",
      "source": [
        "best_estimators['logistic_regression'].score(X_test,y_test)"
      ],
      "metadata": {
        "colab": {
          "base_uri": "https://localhost:8080/"
        },
        "id": "oyUMaYypR1oZ",
        "outputId": "7eb8719c-e884-4d9b-8359-571469b015e4"
      },
      "execution_count": 24,
      "outputs": [
        {
          "output_type": "execute_result",
          "data": {
            "text/plain": [
              "0.7285067873303167"
            ]
          },
          "metadata": {},
          "execution_count": 24
        }
      ]
    },
    {
      "cell_type": "code",
      "source": [
        "\n",
        "best_clf = best_estimators['svm']"
      ],
      "metadata": {
        "id": "VtTtq5AZR4q0"
      },
      "execution_count": 25,
      "outputs": []
    },
    {
      "cell_type": "code",
      "source": [
        "from sklearn.metrics import confusion_matrix\n",
        "cm = confusion_matrix(y_test, best_clf.predict(X_test))\n",
        "cm"
      ],
      "metadata": {
        "colab": {
          "base_uri": "https://localhost:8080/"
        },
        "id": "BEnijm1IR92T",
        "outputId": "e3161813-55a4-4691-cda0-da93debe32de"
      },
      "execution_count": 26,
      "outputs": [
        {
          "output_type": "execute_result",
          "data": {
            "text/plain": [
              "array([[26,  0,  0,  0,  3,  0,  0,  2],\n",
              "       [ 0, 41,  0,  0,  0,  0,  0,  0],\n",
              "       [ 0,  0, 20,  0,  0,  0,  0,  0],\n",
              "       [ 0,  0,  0, 14,  0,  0,  6,  0],\n",
              "       [ 4,  0,  0,  0, 19,  0,  1,  1],\n",
              "       [ 0,  0,  0,  4,  0, 14, 11,  0],\n",
              "       [ 0,  0,  0,  5,  0,  0, 19,  0],\n",
              "       [ 3,  0,  0,  0,  4,  0,  0, 24]])"
            ]
          },
          "metadata": {},
          "execution_count": 26
        }
      ]
    },
    {
      "cell_type": "code",
      "source": [
        "class_dict"
      ],
      "metadata": {
        "colab": {
          "base_uri": "https://localhost:8080/"
        },
        "id": "VCpk-FY-SHFc",
        "outputId": "d7a6ab65-e690-4710-cb97-642f88fa4560"
      },
      "execution_count": 28,
      "outputs": [
        {
          "output_type": "execute_result",
          "data": {
            "text/plain": [
              "{'white spot': 0,\n",
              " 'red leaf spot': 1,\n",
              " 'healthy': 2,\n",
              " 'gray light': 3,\n",
              " 'brown blight': 4,\n",
              " 'bird eye spot': 5,\n",
              " 'Anthracnose': 6,\n",
              " 'algal leaf': 7}"
            ]
          },
          "metadata": {},
          "execution_count": 28
        }
      ]
    },
    {
      "cell_type": "code",
      "source": [
        "import seaborn as sn\n",
        "plt.figure(figsize = (7,5))\n",
        "sn.heatmap(cm, annot=True)\n",
        "plt.xlabel('Predicted')\n",
        "plt.ylabel('Truth')"
      ],
      "metadata": {
        "colab": {
          "base_uri": "https://localhost:8080/",
          "height": 482
        },
        "id": "C--iP6KuSAIO",
        "outputId": "f445573e-603c-414d-fed6-f9644b727b1e"
      },
      "execution_count": 29,
      "outputs": [
        {
          "output_type": "execute_result",
          "data": {
            "text/plain": [
              "Text(58.222222222222214, 0.5, 'Truth')"
            ]
          },
          "metadata": {},
          "execution_count": 29
        },
        {
          "output_type": "display_data",
          "data": {
            "text/plain": [
              "<Figure size 700x500 with 2 Axes>"
            ],
            "image/png": "[encoded data removed]"
          },
          "metadata": {}
        }
      ]
    }
  ]
}